{
 "cells": [
  {
   "cell_type": "markdown",
   "id": "f5478587",
   "metadata": {},
   "source": [
    "## Assignment 2.2 - Naive Bayes\n",
    "    Submitted by: \n",
    "    Amandeep Kaur (21044104)                                                                                   \n",
    "    Bhupesh Dod (21046099)"
   ]
  },
  {
   "cell_type": "markdown",
   "id": "e777065f",
   "metadata": {},
   "source": [
    "## Import the Libraries"
   ]
  },
  {
   "cell_type": "code",
   "execution_count": 1,
   "id": "d1f97999",
   "metadata": {},
   "outputs": [],
   "source": [
    "import numpy as nm\n",
    "import pandas as pd\n",
    "import seaborn as sns\n",
    "import matplotlib.pyplot as plt\n",
    "import matplotlib.cm as cm\n",
    "import scipy.stats as stats\n",
    "\n",
    "import warnings\n",
    "warnings.filterwarnings(\"ignore\")\n",
    "\n",
    "\n",
    "from sklearn.model_selection import train_test_split, cross_val_score\n",
    "from sklearn.preprocessing import StandardScaler\n",
    "from sklearn.preprocessing import MinMaxScaler\n",
    "from sklearn.neighbors import KNeighborsClassifier\n",
    "from sklearn.metrics import confusion_matrix, accuracy_score, f1_score\n",
    "from sklearn.decomposition import PCA\n",
    "from sklearn.discriminant_analysis import LinearDiscriminantAnalysis as LDA\n",
    "from sklearn.naive_bayes import MultinomialNB as MNB\n",
    "from sklearn.naive_bayes import ComplementNB as CNB"
   ]
  },
  {
   "cell_type": "markdown",
   "id": "56ae8ae9",
   "metadata": {},
   "source": [
    "Import all the necessary Libraries."
   ]
  },
  {
   "cell_type": "markdown",
   "id": "dd2be160",
   "metadata": {},
   "source": [
    "## Import the Data"
   ]
  },
  {
   "cell_type": "code",
   "execution_count": 2,
   "id": "0510da02",
   "metadata": {},
   "outputs": [],
   "source": [
    "abalone_data = pd.read_csv(\"/Users/amandeepkaur/Desktop/ECE657A/Assignments /Assignment 2/ece657a-W23-asg2-datasets-jupyterdemo/abalone.csv\",\n",
    "names= ['Sex', 'Length', 'Diameter', 'Height', 'Whole_weight', 'Shucked_weight', \n",
    "'Viscera_weight','Shell_weight', 'Rings'])\n",
    "\n",
    "\n",
    "wine_data1 = pd.read_csv(\"/Users/amandeepkaur/Desktop/ECE657A/Assignments /Assignment 2/ece657a-W23-asg2-datasets-jupyterdemo/winequality-red.csv\",\n",
    " sep = \";\")\n",
    "wine_data1[\"colour\"]=1\n",
    "wine_data1 = wine_data1[list(('fixed acidity', 'volatile acidity', 'citric acid', 'residual sugar', 'chlorides', 'free sulfur dioxide', 'total sulfur dioxide', 'density', 'pH', 'sulphates', 'alcohol', 'colour', 'quality'))]\n",
    "\n",
    "wine_data2 = pd.read_csv(\"/Users/amandeepkaur/Desktop/ECE657A/Assignments /Assignment 2/ece657a-W23-asg2-datasets-jupyterdemo/winequality-white.csv\",\n",
    "sep = \";\")\n",
    "wine_data2[\"colour\"]=0\n",
    "wine_data2 = wine_data2[list(('fixed acidity', 'volatile acidity', 'citric acid', 'residual sugar', 'chlorides', 'free sulfur dioxide', 'total sulfur dioxide', 'density', 'pH', 'sulphates', 'alcohol', 'colour', 'quality'))]\n",
    "\n",
    "wine_data = pd.concat([wine_data1, wine_data2])\n",
    "\n",
    "wine_data = wine_data.reset_index()\n",
    "\n",
    "X_abalone = abalone_data.iloc[:, 1:-1]\n",
    "y_abalone = abalone_data.iloc[:, -1]\n",
    "\n",
    "X_wine = wine_data.iloc[:, :-1]\n",
    "y_wine = wine_data.iloc[:, -1]\n"
   ]
  },
  {
   "cell_type": "markdown",
   "id": "6b73917b",
   "metadata": {},
   "source": [
    "Import all the datasets and combine the wine datasets into a single dataset."
   ]
  },
  {
   "cell_type": "markdown",
   "id": "e6766cf5",
   "metadata": {},
   "source": [
    "## Abalone Data"
   ]
  },
  {
   "cell_type": "markdown",
   "id": "1f496f09",
   "metadata": {},
   "source": [
    "### MultiNomial NB without 5 Cross Validation"
   ]
  },
  {
   "cell_type": "markdown",
   "id": "d6f2961d",
   "metadata": {},
   "source": [
    "#### Abalone Raw"
   ]
  },
  {
   "cell_type": "code",
   "execution_count": 34,
   "id": "34dea338",
   "metadata": {},
   "outputs": [
    {
     "name": "stdout",
     "output_type": "stream",
     "text": [
      "Accuracy with MultiNomial Naive Bayes on Abalone Raw is : 18.18%\n"
     ]
    }
   ],
   "source": [
    "X_a_train_raw, X_a_test_raw, y_a_train_raw, y_a_test_raw = train_test_split(X_abalone, y_abalone, random_state= 45)\n",
    "\n",
    "\n",
    "sc = StandardScaler()\n",
    "X_a_train_raw.iloc[:, :] = sc.fit_transform(X_a_train_raw.iloc[:, :])\n",
    "X_a_test_raw.iloc[:, :] = sc.transform(X_a_test_raw.iloc[:, :])\n",
    "\n",
    "minmax = MinMaxScaler()\n",
    "X_a_train_raw.iloc[:, :] = minmax.fit_transform(X_a_train_raw.iloc[:, :])\n",
    "X_a_test_raw.iloc[:, :] = minmax.transform(X_a_test_raw.iloc[:, :])\n",
    "\n",
    "# On Abalone Raw\n",
    "mnb = MNB()\n",
    "X_a_train_raw = mnb.fit(X_a_train_raw , y_a_train_raw)\n",
    "y_a_pred_raw = mnb.predict(X_a_test_raw)\n",
    "print(\"Accuracy with MultiNomial Naive Bayes on Abalone Raw is : %.2f\" %(accuracy_score(y_a_pred_raw, y_a_test_raw)*100)+\"%\")"
   ]
  },
  {
   "cell_type": "markdown",
   "id": "dfd4f95c",
   "metadata": {},
   "source": [
    "#### Abalone PCA"
   ]
  },
  {
   "cell_type": "code",
   "execution_count": 35,
   "id": "42cad726",
   "metadata": {},
   "outputs": [
    {
     "name": "stdout",
     "output_type": "stream",
     "text": [
      "Accuracy with MultiNomial Naive Bayes on Abalone PCA is : 17.99%\n"
     ]
    }
   ],
   "source": [
    "X_a_train_pca, X_a_test_pca, y_a_train_pca, y_a_test_pca = train_test_split(X_abalone, y_abalone, random_state= 45)\n",
    "\n",
    "\n",
    "X_a_train_pca = sc.fit_transform(X_a_train_pca)\n",
    "X_a_test_pca = sc.transform(X_a_test_pca)\n",
    "\n",
    "pca = PCA(0.95)\n",
    "X_a_train_pca = pca.fit_transform(X_a_train_pca)\n",
    "X_a_test_pca = pca.transform(X_a_test_pca)\n",
    "\n",
    "\n",
    "X_a_train_pca = minmax.fit_transform(X_a_train_pca)\n",
    "X_a_test_pca = minmax.transform(X_a_test_pca)\n",
    "\n",
    "# On Abalone PCA\n",
    "X_a_train_pca = mnb.fit(X_a_train_pca, y_a_train_pca)\n",
    "y_a_pred_pca = mnb.predict(X_a_test_pca)\n",
    "print(\"Accuracy with MultiNomial Naive Bayes on Abalone PCA is : %.2f\" %(accuracy_score(y_a_pred_pca, y_a_test_pca)*100)+\"%\")"
   ]
  },
  {
   "cell_type": "markdown",
   "id": "b7f428b0",
   "metadata": {},
   "source": [
    "#### Abalone LDA"
   ]
  },
  {
   "cell_type": "code",
   "execution_count": 66,
   "id": "7c0c36d1",
   "metadata": {},
   "outputs": [
    {
     "name": "stdout",
     "output_type": "stream",
     "text": [
      "Accuracy with MultiNomial Naive Bayes on Abalone LDA is : 17.99%\n"
     ]
    }
   ],
   "source": [
    "X_a_train_lda, X_a_test_lda, y_a_train_lda, y_a_test_lda = train_test_split(X_abalone, y_abalone, random_state= 45)\n",
    "\n",
    "\n",
    "X_a_train_lda.iloc[:, :] = sc.fit_transform(X_a_train_lda.iloc[:, :])\n",
    "X_a_test_lda.iloc[:, :] = sc.transform(X_a_test_lda.iloc[:, :])\n",
    "\n",
    "lda = LDA(n_components=4)\n",
    "X_a_train_lda = lda.fit_transform(X_a_train_lda, y_a_train_lda)\n",
    "X_a_test_lda = lda.transform(X_a_test_lda)\n",
    "\n",
    "X_a_train_lda = minmax.fit_transform(X_a_train_lda)\n",
    "X_a_test_lda = minmax.transform(X_a_test_lda)\n",
    "\n",
    "#On Abalone LDA\n",
    "\n",
    "X_a_train_lda = mnb.fit(X_a_train_lda, y_a_train_lda)\n",
    "y_a_pred_lda = mnb.predict(X_a_test_lda)\n",
    "print(\"Accuracy with MultiNomial Naive Bayes on Abalone LDA is : %.2f\" %(accuracy_score(y_a_pred_lda, y_a_test_lda)*100)+\"%\")"
   ]
  },
  {
   "cell_type": "markdown",
   "id": "641d1212",
   "metadata": {},
   "source": [
    "##### It is to be noted that the Accuracy for both PCA and LDA is the same for Abalone for MultiNomial Naive Bayes Classifier."
   ]
  },
  {
   "cell_type": "markdown",
   "id": "210392a9",
   "metadata": {},
   "source": [
    "## Multinomial Using 5 fold with NB on Abalone"
   ]
  },
  {
   "cell_type": "markdown",
   "id": "778f4ad8",
   "metadata": {},
   "source": [
    "#### Abalone Raw"
   ]
  },
  {
   "cell_type": "code",
   "execution_count": 6,
   "id": "956ab406",
   "metadata": {},
   "outputs": [
    {
     "name": "stdout",
     "output_type": "stream",
     "text": [
      "The mean accuracy with MultiNomial Naive Bayes on Abalone Raw using 5 fold is : 16.19%\n"
     ]
    }
   ],
   "source": [
    "X_a_train_raw, X_a_test_raw, y_a_train_raw, y_a_test_raw = train_test_split(X_abalone, y_abalone, random_state= 45)\n",
    "\n",
    "sc = StandardScaler()\n",
    "X_a_train_raw.iloc[:, :] = sc.fit_transform(X_a_train_raw.iloc[:, :])\n",
    "X_a_test_raw.iloc[:, :] = sc.transform(X_a_test_raw.iloc[:, :])\n",
    "\n",
    "minmax = MinMaxScaler()\n",
    "X_a_train_raw.iloc[:, :] = minmax.fit_transform(X_a_train_raw.iloc[:, :])\n",
    "X_a_test_raw.iloc[:, :] = minmax.transform(X_a_test_raw.iloc[:, :])\n",
    "\n",
    "\n",
    "# On Abalone Raw\n",
    "accuracy_raw=cross_val_score(MNB(), X_a_train_raw , y_a_train_raw, cv=5, scoring='accuracy')\n",
    "print(\"The mean accuracy with MultiNomial Naive Bayes on Abalone Raw using 5 fold is : %.2f\" %(nm.mean(accuracy_raw)*100)+\"%\")"
   ]
  },
  {
   "cell_type": "markdown",
   "id": "58dd697f",
   "metadata": {},
   "source": [
    "#### Abalone PCA"
   ]
  },
  {
   "cell_type": "code",
   "execution_count": 7,
   "id": "e28ab5c9",
   "metadata": {},
   "outputs": [
    {
     "name": "stdout",
     "output_type": "stream",
     "text": [
      "The mean accuracy with MultiNomial Naive Bayes on Abalone PCA using 5 fold is : 16.00%\n"
     ]
    }
   ],
   "source": [
    "X_a_train_pca, X_a_test_pca, y_a_train_pca, y_a_test_pca = train_test_split(X_abalone, y_abalone, random_state= 45)\n",
    "\n",
    "sc = StandardScaler()\n",
    "X_a_train_pca = sc.fit_transform(X_a_train_pca)\n",
    "X_a_test_pca = sc.transform(X_a_test_pca)\n",
    "\n",
    "pca = PCA(0.95)\n",
    "X_a_train_pca = pca.fit_transform(X_a_train_pca)\n",
    "X_a_test_pca = pca.transform(X_a_test_pca)\n",
    "\n",
    "\n",
    "X_a_train_pca = minmax.fit_transform(X_a_train_pca)\n",
    "X_a_test_pca = minmax.transform(X_a_test_pca)\n",
    "\n",
    "# On Abalone PCA\n",
    "accuracy_pca=cross_val_score(MNB(), X_a_train_pca, y_a_train_pca, cv=5, scoring='accuracy')\n",
    "print(\"The mean accuracy with MultiNomial Naive Bayes on Abalone PCA using 5 fold is : %.2f\" %(nm.mean(accuracy_pca)*100)+\"%\")"
   ]
  },
  {
   "cell_type": "markdown",
   "id": "0fe700b9",
   "metadata": {},
   "source": [
    "#### Abalone LDA"
   ]
  },
  {
   "cell_type": "code",
   "execution_count": 65,
   "id": "fc2019d7",
   "metadata": {},
   "outputs": [
    {
     "name": "stdout",
     "output_type": "stream",
     "text": [
      "The mean accuracy with MultiNomial Naive Bayes on Abalone LDA using 5 fold is : 16.00%\n"
     ]
    }
   ],
   "source": [
    "X_a_train_lda, X_a_test_lda, y_a_train_lda, y_a_test_lda = train_test_split(X_abalone, y_abalone, random_state= 45)\n",
    "\n",
    "sc = StandardScaler()\n",
    "X_a_train_lda.iloc[:, :] = sc.fit_transform(X_a_train_lda.iloc[:, :])\n",
    "X_a_test_lda.iloc[:, :] = sc.transform(X_a_test_lda.iloc[:, :])\n",
    "\n",
    "lda = LDA(n_components=4)\n",
    "X_a_train_lda = lda.fit_transform(X_a_train_lda, y_a_train_lda)\n",
    "X_a_test_lda = lda.transform(X_a_test_lda)\n",
    "\n",
    "X_a_train_lda = minmax.fit_transform(X_a_train_lda)\n",
    "X_a_test_lda = minmax.transform(X_a_test_lda)\n",
    "\n",
    "\n",
    "# On Abalone LCA\n",
    "accuracy_lda=cross_val_score(MNB(), X_a_train_lda, y_a_train_lda, cv=5, scoring='accuracy')\n",
    "nm.mean(accuracy_lda)\n",
    "print(\"The mean accuracy with MultiNomial Naive Bayes on Abalone LDA using 5 fold is : %.2f\" %(nm.mean(accuracy_lda)*100)+\"%\")"
   ]
  },
  {
   "cell_type": "markdown",
   "id": "404cd00c",
   "metadata": {},
   "source": [
    "##### After applying 5 fold validation, the mean accuracy of PCA and LDA for MultiNomial Naive Bayes is still equal."
   ]
  },
  {
   "cell_type": "markdown",
   "id": "a01ff46f",
   "metadata": {},
   "source": [
    "## Complement NB on Abalone without 5 Fold"
   ]
  },
  {
   "cell_type": "markdown",
   "id": "d7fe05a3",
   "metadata": {},
   "source": [
    "#### Abalone Raw"
   ]
  },
  {
   "cell_type": "code",
   "execution_count": 30,
   "id": "1b5bcb0c",
   "metadata": {},
   "outputs": [
    {
     "name": "stdout",
     "output_type": "stream",
     "text": [
      "The mean accuracy with Complement Naive Bayes on Abalone Raw is : 19.43%\n"
     ]
    }
   ],
   "source": [
    "X_a_train_raw, X_a_test_raw, y_a_train_raw, y_a_test_raw = train_test_split(X_abalone, y_abalone, random_state= 45)\n",
    "\n",
    "\n",
    "X_a_train_raw.iloc[:, :] = sc.fit_transform(X_a_train_raw.iloc[:, :])\n",
    "X_a_test_raw.iloc[:, :] = sc.transform(X_a_test_raw.iloc[:, :])\n",
    "\n",
    "\n",
    "X_a_train_raw.iloc[:, :] = minmax.fit_transform(X_a_train_raw.iloc[:, :])\n",
    "X_a_test_raw.iloc[:, :] = minmax.transform(X_a_test_raw.iloc[:, :])\n",
    "\n",
    "# On Abalone Raw\n",
    "cnb = CNB()\n",
    "X_a_train_raw = cnb.fit(X_a_train_raw , y_a_train_raw)\n",
    "y_a_pred_raw = cnb.predict(X_a_test_raw)\n",
    "print(\"The mean accuracy with Complement Naive Bayes on Abalone Raw is : %.2f\" %(accuracy_score(y_a_pred_raw, y_a_test_raw)*100)+\"%\")"
   ]
  },
  {
   "cell_type": "markdown",
   "id": "20fb089f",
   "metadata": {},
   "source": [
    "#### Abalone PCA"
   ]
  },
  {
   "cell_type": "code",
   "execution_count": 10,
   "id": "ba9c03df",
   "metadata": {},
   "outputs": [
    {
     "name": "stdout",
     "output_type": "stream",
     "text": [
      "The mean accuracy with Complement Naive Bayes on Abalone PCA is : 19.33%\n"
     ]
    }
   ],
   "source": [
    "X_a_train_pca, X_a_test_pca, y_a_train_pca, y_a_test_pca = train_test_split(X_abalone, y_abalone, random_state= 45)\n",
    "\n",
    "X_a_train_pca = sc.fit_transform(X_a_train_pca)\n",
    "X_a_test_pca = sc.transform(X_a_test_pca)\n",
    "\n",
    "pca = PCA(0.95)\n",
    "X_a_train_pca = pca.fit_transform(X_a_train_pca)\n",
    "X_a_test_pca = pca.transform(X_a_test_pca)\n",
    "\n",
    "\n",
    "X_a_train_pca = minmax.fit_transform(X_a_train_pca)\n",
    "X_a_test_pca = minmax.transform(X_a_test_pca)\n",
    "\n",
    "# On Abalone PCA\n",
    "X_a_train_pca = cnb.fit(X_a_train_pca, y_a_train_pca)\n",
    "y_a_pred_pca = cnb.predict(X_a_test_pca)\n",
    "print(\"The mean accuracy with Complement Naive Bayes on Abalone PCA is : %.2f\" %(accuracy_score(y_a_pred_pca, y_a_test_pca)*100)+\"%\")"
   ]
  },
  {
   "cell_type": "markdown",
   "id": "9cc80135",
   "metadata": {},
   "source": [
    "#### Abalone LDA"
   ]
  },
  {
   "cell_type": "code",
   "execution_count": 64,
   "id": "a43be08f",
   "metadata": {},
   "outputs": [
    {
     "name": "stdout",
     "output_type": "stream",
     "text": [
      "The mean accuracy with Complement Naive Bayes on Abalone LDA is : 25.07%\n"
     ]
    }
   ],
   "source": [
    "X_a_train_lda, X_a_test_lda, y_a_train_lda, y_a_test_lda = train_test_split(X_abalone, y_abalone, random_state= 45)\n",
    "\n",
    "X_a_train_lda.iloc[:, :] = sc.fit_transform(X_a_train_lda.iloc[:, :])\n",
    "X_a_test_lda.iloc[:, :] = sc.transform(X_a_test_lda.iloc[:, :])\n",
    "\n",
    "lda = LDA(n_components=4)\n",
    "X_a_train_lda = lda.fit_transform(X_a_train_lda, y_a_train_lda)\n",
    "X_a_test_lda = lda.transform(X_a_test_lda)\n",
    "\n",
    "X_a_train_lda = minmax.fit_transform(X_a_train_lda)\n",
    "X_a_test_lda = minmax.transform(X_a_test_lda)\n",
    "\n",
    "#On Abalone LDA\n",
    "\n",
    "X_a_train_lda = cnb.fit(X_a_train_lda, y_a_train_lda)\n",
    "y_a_pred_lda = cnb.predict(X_a_test_lda)\n",
    "print(\"The mean accuracy with Complement Naive Bayes on Abalone LDA is : %.2f\" %(accuracy_score(y_a_pred_lda, y_a_test_lda)*100)+\"%\")"
   ]
  },
  {
   "cell_type": "markdown",
   "id": "611e493e",
   "metadata": {},
   "source": [
    "##### For Complement Naive Bayes, the accuracy for Abalone decreases from Raw(19.43%) to PCA(19.33%), however, for LDA it is the maximum of 25.07%.  "
   ]
  },
  {
   "cell_type": "markdown",
   "id": "f4fce9d1",
   "metadata": {},
   "source": [
    "## CNB with Using 5 Fold on Abalone"
   ]
  },
  {
   "cell_type": "markdown",
   "id": "42e22028",
   "metadata": {},
   "source": [
    "#### Abalone Raw"
   ]
  },
  {
   "cell_type": "code",
   "execution_count": 32,
   "id": "a9585ccc",
   "metadata": {},
   "outputs": [
    {
     "name": "stdout",
     "output_type": "stream",
     "text": [
      "The mean accuracy with Complement Naive Bayes on Abalone Raw is : 17.56%\n"
     ]
    }
   ],
   "source": [
    "X_a_train_raw, X_a_test_raw, y_a_train_raw, y_a_test_raw = train_test_split(X_abalone, y_abalone, random_state= 45)\n",
    "\n",
    "\n",
    "X_a_train_raw.iloc[:, :] = sc.fit_transform(X_a_train_raw.iloc[:, :])\n",
    "X_a_test_raw.iloc[:, :] = sc.transform(X_a_test_raw.iloc[:, :])\n",
    "\n",
    "\n",
    "X_a_train_raw.iloc[:, :] = minmax.fit_transform(X_a_train_raw.iloc[:, :])\n",
    "X_a_test_raw.iloc[:, :] = minmax.transform(X_a_test_raw.iloc[:, :])\n",
    "\n",
    "# On Abalone Raw\n",
    "accuracy_raw=cross_val_score(CNB(), X_a_train_raw, y_a_train_raw, cv=5, scoring='accuracy')\n",
    "print(\"The mean accuracy with Complement Naive Bayes on Abalone Raw is : %.2f\" %(nm.mean(accuracy_raw)*100)+\"%\")"
   ]
  },
  {
   "cell_type": "markdown",
   "id": "a5cd357b",
   "metadata": {},
   "source": [
    "#### Abalone PCA"
   ]
  },
  {
   "cell_type": "code",
   "execution_count": 13,
   "id": "6d11c699",
   "metadata": {},
   "outputs": [
    {
     "name": "stdout",
     "output_type": "stream",
     "text": [
      "The mean accuracy with Complement Naive Bayes on Abalone PCA is : 20.02%\n"
     ]
    }
   ],
   "source": [
    "X_a_train_pca, X_a_test_pca, y_a_train_pca, y_a_test_pca = train_test_split(X_abalone, y_abalone, random_state= 45)\n",
    "\n",
    "X_a_train_pca = sc.fit_transform(X_a_train_pca)\n",
    "X_a_test_pca = sc.transform(X_a_test_pca)\n",
    "\n",
    "pca = PCA(0.95)\n",
    "X_a_train_pca = pca.fit_transform(X_a_train_pca)\n",
    "X_a_test_pca = pca.transform(X_a_test_pca)\n",
    "\n",
    "\n",
    "X_a_train_pca = minmax.fit_transform(X_a_train_pca)\n",
    "X_a_test_pca = minmax.transform(X_a_test_pca)\n",
    "\n",
    "# On Abalone PCA\n",
    "accuracy_pca=cross_val_score(CNB(), X_a_train_pca, y_a_train_pca, cv=5, scoring='accuracy')\n",
    "print(\"The mean accuracy with Complement Naive Bayes on Abalone PCA is : %.2f\" %(nm.mean(accuracy_pca)*100)+\"%\")"
   ]
  },
  {
   "cell_type": "markdown",
   "id": "b37ea265",
   "metadata": {},
   "source": [
    "#### Abalone LDA"
   ]
  },
  {
   "cell_type": "code",
   "execution_count": 63,
   "id": "48267fdf",
   "metadata": {},
   "outputs": [
    {
     "name": "stdout",
     "output_type": "stream",
     "text": [
      "The mean accuracy with Complement Naive Bayes on Abalone LDA is : 23.53%\n"
     ]
    }
   ],
   "source": [
    "X_a_train_lda, X_a_test_lda, y_a_train_lda, y_a_test_lda = train_test_split(X_abalone, y_abalone, random_state= 45)\n",
    "\n",
    "X_a_train_lda.iloc[:, :] = sc.fit_transform(X_a_train_lda.iloc[:, :])\n",
    "X_a_test_lda.iloc[:, :] = sc.transform(X_a_test_lda.iloc[:, :])\n",
    "\n",
    "lda = LDA(n_components=4)\n",
    "X_a_train_lda = lda.fit_transform(X_a_train_lda, y_a_train_lda)\n",
    "X_a_test_lda = lda.transform(X_a_test_lda)\n",
    "\n",
    "X_a_train_lda = minmax.fit_transform(X_a_train_lda)\n",
    "X_a_test_lda = minmax.transform(X_a_test_lda)\n",
    "\n",
    "#On Abalone LDA\n",
    "\n",
    "accuracy_lda=cross_val_score(CNB(), X_a_train_lda, y_a_train_lda, cv=5, scoring='accuracy')\n",
    "print(\"The mean accuracy with Complement Naive Bayes on Abalone LDA is : %.2f\" %(nm.mean(accuracy_lda)*100)+\"%\")"
   ]
  },
  {
   "cell_type": "markdown",
   "id": "f0d6f172",
   "metadata": {},
   "source": [
    "##### For Complement Naive Bayes using 5 fold, the accuracy increases from Raw(17.56%) to PCA(20.02%) to LDA(23.53%), however, using 5 fold the overall accuracy has dropped for all three datasets."
   ]
  },
  {
   "cell_type": "markdown",
   "id": "b4b47e4a",
   "metadata": {},
   "source": [
    "# Wine Data"
   ]
  },
  {
   "cell_type": "markdown",
   "id": "de0f148a",
   "metadata": {},
   "source": [
    "### MultiNomial NB without 5 Fold"
   ]
  },
  {
   "cell_type": "markdown",
   "id": "85c9648f",
   "metadata": {},
   "source": [
    "#### Wine Raw"
   ]
  },
  {
   "cell_type": "code",
   "execution_count": 47,
   "id": "c42dbb58",
   "metadata": {},
   "outputs": [
    {
     "name": "stdout",
     "output_type": "stream",
     "text": [
      "The mean accuracy with MultiNomial Naive Bayes on Wine Raw is : 47.26%\n"
     ]
    }
   ],
   "source": [
    "X_w_train_raw, X_w_test_raw, y_w_train_raw, y_w_test_raw = train_test_split(X_wine, y_wine, random_state= 45)\n",
    "\n",
    "\n",
    "X_w_train_raw.iloc[:, :-1] = sc.fit_transform(X_w_train_raw.iloc[:, :-1])\n",
    "X_w_test_raw.iloc[:, :-1] = sc.transform(X_w_test_raw.iloc[:, :-1])\n",
    "\n",
    "\n",
    "X_w_train_raw.iloc[:, :-1] = minmax.fit_transform(X_w_train_raw.iloc[:, :-1])\n",
    "X_w_test_raw.iloc[:, :-1] = minmax.transform(X_w_test_raw.iloc[:, :-1])\n",
    "\n",
    "# On Wine Raw\n",
    "X_w_train_raw = mnb.fit(X_w_train_raw , y_w_train_raw)\n",
    "y_w_pred_raw = mnb.predict(X_w_test_raw)\n",
    "print(\"The mean accuracy with MultiNomial Naive Bayes on Wine Raw is : %.2f\" %(accuracy_score(y_w_pred_raw, y_w_test_raw)*100)+\"%\")\n"
   ]
  },
  {
   "cell_type": "markdown",
   "id": "1cb18d75",
   "metadata": {},
   "source": [
    "#### Wine PCA"
   ]
  },
  {
   "cell_type": "code",
   "execution_count": 48,
   "id": "ab45fc54",
   "metadata": {},
   "outputs": [
    {
     "name": "stdout",
     "output_type": "stream",
     "text": [
      "The mean accuracy with MultiNomial Naive Bayes on Wine PCA is : 41.23%\n"
     ]
    }
   ],
   "source": [
    "X_w_train_pca, X_w_test_pca, y_w_train_pca, y_w_test_pca = train_test_split(X_wine, y_wine, random_state= 45)\n",
    "\n",
    "\n",
    "X_w_train_pca.iloc[:, :-1] = sc.fit_transform(X_w_train_pca.iloc[:, :-1])\n",
    "X_w_test_pca.iloc[:, :-1] = sc.transform(X_w_test_pca.iloc[:, :-1])\n",
    "\n",
    "pca = PCA(0.95)\n",
    "X_w_train_pca = pca.fit_transform(X_w_train_pca)\n",
    "X_w_test_pca = pca.transform(X_w_test_pca)\n",
    "\n",
    "\n",
    "X_w_train_pca = minmax.fit_transform(X_w_train_pca)\n",
    "X_w_test_pca = minmax.transform(X_w_test_pca)\n",
    "\n",
    "# On Wine PCA\n",
    "X_w_train_pca = mnb.fit(X_w_train_pca, y_w_train_pca)\n",
    "y_w_pred_pca = mnb.predict(X_w_test_pca)\n",
    "print(\"The mean accuracy with MultiNomial Naive Bayes on Wine PCA is : %.2f\" %(accuracy_score(y_w_pred_pca, y_w_test_pca)*100)+\"%\")"
   ]
  },
  {
   "cell_type": "markdown",
   "id": "42d3219e",
   "metadata": {},
   "source": [
    "#### Wine LDA"
   ]
  },
  {
   "cell_type": "code",
   "execution_count": 49,
   "id": "66832375",
   "metadata": {},
   "outputs": [
    {
     "name": "stdout",
     "output_type": "stream",
     "text": [
      "The mean accuracy with MultiNomial Naive Bayes on Wine lda is : 41.23%\n"
     ]
    }
   ],
   "source": [
    "X_w_train_lda, X_w_test_lda, y_w_train_lda, y_w_test_lda = train_test_split(X_wine, y_wine, random_state= 45)\n",
    "\n",
    "\n",
    "X_w_train_lda.iloc[:, :-1] = sc.fit_transform(X_w_train_lda.iloc[:, :-1])\n",
    "X_w_test_lda.iloc[:, :-1] = sc.transform(X_w_test_lda.iloc[:, :-1])\n",
    "\n",
    "lda = LDA(n_components=4)\n",
    "X_w_train_lda = lda.fit_transform(X_w_train_lda, y_w_train_lda)\n",
    "X_w_test_lda = lda.transform(X_w_test_lda)\n",
    "\n",
    "X_w_train_lda = minmax.fit_transform(X_w_train_lda)\n",
    "X_w_test_lda = minmax.transform(X_w_test_lda)\n",
    "\n",
    "#On Wine LDA\n",
    "\n",
    "X_w_train_lda = mnb.fit(X_w_train_lda, y_w_train_lda)\n",
    "y_w_pred_lda = mnb.predict(X_w_test_lda)\n",
    "print(\"The mean accuracy with MultiNomial Naive Bayes on Wine lda is : %.2f\" %(accuracy_score(y_w_pred_lda, y_w_test_lda)*100)+\"%\")"
   ]
  },
  {
   "cell_type": "markdown",
   "id": "f2865839",
   "metadata": {},
   "source": [
    "##### It is to be noted that the Accuracy for both PCA and LDA is the same for Wine for MultiNomial Naive Bayes Classifier."
   ]
  },
  {
   "cell_type": "markdown",
   "id": "e3191ad6",
   "metadata": {},
   "source": [
    "## Complement NB"
   ]
  },
  {
   "cell_type": "markdown",
   "id": "abad2fd8",
   "metadata": {},
   "source": [
    "#### Wine RAW"
   ]
  },
  {
   "cell_type": "code",
   "execution_count": 50,
   "id": "a4fdedb7",
   "metadata": {},
   "outputs": [
    {
     "name": "stdout",
     "output_type": "stream",
     "text": [
      "The accuracy with Complement Naive Bayes on Wine RAW is : 42.83%\n"
     ]
    }
   ],
   "source": [
    "X_w_train_raw, X_w_test_raw, y_w_train_raw, y_w_test_raw = train_test_split(X_wine, y_wine, random_state= 45)\n",
    "\n",
    "\n",
    "X_w_train_raw.iloc[:, :-1] = sc.fit_transform(X_w_train_raw.iloc[:, :-1])\n",
    "X_w_test_raw.iloc[:, :-1] = sc.transform(X_w_test_raw.iloc[:, :-1])\n",
    "\n",
    "\n",
    "X_w_train_raw.iloc[:, :-1] = minmax.fit_transform(X_w_train_raw.iloc[:, :-1])\n",
    "X_w_test_raw.iloc[:, :-1] = minmax.transform(X_w_test_raw.iloc[:, :-1])\n",
    "\n",
    "# On Wine Raw\n",
    "\n",
    "X_w_train_raw = cnb.fit(X_w_train_raw , y_w_train_raw)\n",
    "y_w_pred_raw = cnb.predict(X_w_test_raw)\n",
    "print(\"The accuracy with Complement Naive Bayes on Wine RAW is : %.2f\" %(accuracy_score(y_w_pred_raw, y_w_test_raw)*100)+\"%\")\n"
   ]
  },
  {
   "cell_type": "markdown",
   "id": "0294009b",
   "metadata": {},
   "source": [
    "#### Wine PCA"
   ]
  },
  {
   "cell_type": "code",
   "execution_count": 51,
   "id": "4bc85aa0",
   "metadata": {},
   "outputs": [
    {
     "name": "stdout",
     "output_type": "stream",
     "text": [
      "The accuracy with Complement Naive Bayes on Wine PCA is : 44.74%\n"
     ]
    }
   ],
   "source": [
    "X_w_train_pca, X_w_test_pca, y_w_train_pca, y_w_test_pca = train_test_split(X_wine, y_wine, random_state= 45)\n",
    "\n",
    "\n",
    "X_w_train_pca.iloc[:, :-1] = sc.fit_transform(X_w_train_pca.iloc[:, :-1])\n",
    "X_w_test_pca.iloc[:, :-1] = sc.transform(X_w_test_pca.iloc[:, :-1])\n",
    "\n",
    "pca = PCA(0.95)\n",
    "X_w_train_pca = pca.fit_transform(X_w_train_pca)\n",
    "X_w_test_pca = pca.transform(X_w_test_pca)\n",
    "\n",
    "\n",
    "X_w_train_pca = minmax.fit_transform(X_w_train_pca)\n",
    "X_w_test_pca = minmax.transform(X_w_test_pca)\n",
    "\n",
    "\n",
    "# On Wine PCA\n",
    "\n",
    "X_w_train_pca = cnb.fit(X_w_train_pca , y_w_train_pca)\n",
    "y_w_pred_pca = cnb.predict(X_w_test_pca)\n",
    "print(\"The accuracy with Complement Naive Bayes on Wine PCA is : %.2f\" %(accuracy_score(y_w_pred_pca, y_w_test_pca)*100)+\"%\")"
   ]
  },
  {
   "cell_type": "markdown",
   "id": "e01ed644",
   "metadata": {},
   "source": [
    "#### Wine LDA"
   ]
  },
  {
   "cell_type": "code",
   "execution_count": 55,
   "id": "3d062f9c",
   "metadata": {},
   "outputs": [
    {
     "name": "stdout",
     "output_type": "stream",
     "text": [
      "The accuracy with Complement Naive Bayes on Wine LDA is : 44.68%\n"
     ]
    }
   ],
   "source": [
    "X_w_train_lda, X_w_test_lda, y_w_train_lda, y_w_test_lda = train_test_split(X_wine, y_wine, random_state= 45)\n",
    "\n",
    "\n",
    "X_w_train_lda.iloc[:, :-1] = sc.fit_transform(X_w_train_lda.iloc[:, :-1])\n",
    "X_w_test_lda.iloc[:, :-1] = sc.transform(X_w_test_lda.iloc[:, :-1])\n",
    "\n",
    "lda = LDA(n_components=4)\n",
    "X_w_train_lda = lda.fit_transform(X_w_train_lda, y_w_train_lda)\n",
    "X_w_test_lda = lda.transform(X_w_test_lda)\n",
    "\n",
    "X_w_train_lda = minmax.fit_transform(X_w_train_lda)\n",
    "X_w_test_lda = minmax.transform(X_w_test_lda)\n",
    "\n",
    "\n",
    "#On Wine LDA\n",
    "\n",
    "X_w_train_lda = cnb.fit(X_w_train_lda, y_w_train_lda)\n",
    "y_w_pred_lda = cnb.predict(X_w_test_lda)\n",
    "print(\"The accuracy with Complement Naive Bayes on Wine LDA is : %.2f\" %(accuracy_score(y_w_pred_lda, y_w_test_lda)*100)+\"%\")"
   ]
  },
  {
   "cell_type": "markdown",
   "id": "a995d6f2",
   "metadata": {},
   "source": [
    "##### For Complement Naive Bayes, the accuracy increases from Raw(42.83%) to PCA(44.74%), to LDA(44.68%)."
   ]
  },
  {
   "cell_type": "markdown",
   "id": "6459013d",
   "metadata": {},
   "source": [
    "## Using 5 Fold Validation with MNB on Wine"
   ]
  },
  {
   "cell_type": "markdown",
   "id": "b8089c3f",
   "metadata": {},
   "source": [
    "#### Wine RAW"
   ]
  },
  {
   "cell_type": "code",
   "execution_count": 60,
   "id": "2b2d82ff",
   "metadata": {},
   "outputs": [
    {
     "name": "stdout",
     "output_type": "stream",
     "text": [
      "The mean accuracy with MultiNomial Naive Bayes on Wine RAW with 5 fold is : 47.89%\n"
     ]
    }
   ],
   "source": [
    "X_w_train_raw, X_w_test_raw, y_w_train_raw, y_w_test_raw = train_test_split(X_wine, y_wine, random_state= 45)\n",
    "\n",
    "\n",
    "X_w_train_raw.iloc[:, :-1] = sc.fit_transform(X_w_train_raw.iloc[:, :-1])\n",
    "X_w_test_raw.iloc[:, :-1] = sc.transform(X_w_test_raw.iloc[:, :-1])\n",
    "\n",
    "\n",
    "X_w_train_raw.iloc[:, :-1] = minmax.fit_transform(X_w_train_raw.iloc[:, :-1])\n",
    "X_w_test_raw.iloc[:, :-1] = minmax.transform(X_w_test_raw.iloc[:, :-1])\n",
    "\n",
    "# On Wine Raw\n",
    "\n",
    "accuracy_raw=cross_val_score(MNB(), X_w_train_raw, y_w_train_raw, cv=5, scoring='accuracy')\n",
    "print(\"The mean accuracy with MultiNomial Naive Bayes on Wine RAW with 5 fold is : %.2f\" %(nm.mean(accuracy_raw)*100)+\"%\")"
   ]
  },
  {
   "cell_type": "markdown",
   "id": "aa4dddcc",
   "metadata": {},
   "source": [
    "#### Wine PCA"
   ]
  },
  {
   "cell_type": "code",
   "execution_count": 61,
   "id": "d10883af",
   "metadata": {},
   "outputs": [
    {
     "name": "stdout",
     "output_type": "stream",
     "text": [
      "The mean accuracy with MultiNomial Naive Bayes on Wine PCA with 5 fold is : 44.46%\n"
     ]
    }
   ],
   "source": [
    "X_w_train_pca, X_w_test_pca, y_w_train_pca, y_w_test_pca = train_test_split(X_wine, y_wine, random_state= 45)\n",
    "\n",
    "\n",
    "X_w_train_pca.iloc[:, :-1] = sc.fit_transform(X_w_train_pca.iloc[:, :-1])\n",
    "X_w_test_pca.iloc[:, :-1] = sc.transform(X_w_test_pca.iloc[:, :-1])\n",
    "\n",
    "pca = PCA(0.95)\n",
    "X_w_train_pca = pca.fit_transform(X_w_train_pca)\n",
    "X_w_test_pca = pca.transform(X_w_test_pca)\n",
    "\n",
    "\n",
    "X_w_train_pca = minmax.fit_transform(X_w_train_pca)\n",
    "X_w_test_pca = minmax.transform(X_w_test_pca)\n",
    "\n",
    "# On Wine PCA\n",
    "accuracy_pca=cross_val_score(MNB(), X_w_train_pca, y_w_train_pca, cv=5, scoring='accuracy')\n",
    "\n",
    "print(\"The mean accuracy with MultiNomial Naive Bayes on Wine PCA with 5 fold is : %.2f\" %(nm.mean(accuracy_pca)*100)+\"%\")"
   ]
  },
  {
   "cell_type": "markdown",
   "id": "9a488569",
   "metadata": {},
   "source": [
    "#### Wine LDA"
   ]
  },
  {
   "cell_type": "code",
   "execution_count": 62,
   "id": "174c2724",
   "metadata": {},
   "outputs": [
    {
     "name": "stdout",
     "output_type": "stream",
     "text": [
      "The mean accuracy with MultiNomial Naive Bayes on Wine LDA with 5 fold is : 44.46%\n"
     ]
    }
   ],
   "source": [
    "X_w_train_lda, X_w_test_lda, y_w_train_lda, y_w_test_lda = train_test_split(X_wine, y_wine, random_state= 45)\n",
    "\n",
    "\n",
    "X_w_train_lda.iloc[:, :-1] = sc.fit_transform(X_w_train_lda.iloc[:, :-1])\n",
    "X_w_test_lda.iloc[:, :-1] = sc.transform(X_w_test_lda.iloc[:, :-1])\n",
    "\n",
    "lda = LDA(n_components=4)\n",
    "X_w_train_lda = lda.fit_transform(X_w_train_lda, y_w_train_lda)\n",
    "X_w_test_lda = lda.transform(X_w_test_lda)\n",
    "\n",
    "X_w_train_lda = minmax.fit_transform(X_w_train_lda)\n",
    "X_w_test_lda = minmax.transform(X_w_test_lda)\n",
    "\n",
    "#On Wine LDA\n",
    "\n",
    "accuracy_lda=cross_val_score(MNB(), X_w_train_lda, y_w_train_lda, cv=5, scoring='accuracy')\n",
    "print(\"The mean accuracy with MultiNomial Naive Bayes on Wine LDA with 5 fold is : %.2f\" %(nm.mean(accuracy_lda)*100)+\"%\")"
   ]
  },
  {
   "cell_type": "markdown",
   "id": "456a7aec",
   "metadata": {},
   "source": [
    "##### After applying 5 fold validation, the mean accuracy of PCA and LDA for MultiNomial Naive Bayes is still equal. However, it is less than the RAW Accuracy."
   ]
  },
  {
   "cell_type": "markdown",
   "id": "d8254296",
   "metadata": {},
   "source": [
    "## Using 5 Fold Validation on CNB"
   ]
  },
  {
   "cell_type": "markdown",
   "id": "979244b0",
   "metadata": {},
   "source": [
    "#### Wine RAW"
   ]
  },
  {
   "cell_type": "code",
   "execution_count": 56,
   "id": "67c7169a",
   "metadata": {},
   "outputs": [
    {
     "name": "stdout",
     "output_type": "stream",
     "text": [
      "The mean accuracy with Complement Naive Bayes on Wine RAW using 5 fold is : 44.44%\n"
     ]
    }
   ],
   "source": [
    "X_w_train_raw, X_w_test_raw, y_w_train_raw, y_w_test_raw = train_test_split(X_wine, y_wine, random_state= 45)\n",
    "\n",
    "\n",
    "X_w_train_raw.iloc[:, :-1] = sc.fit_transform(X_w_train_raw.iloc[:, :-1])\n",
    "X_w_test_raw.iloc[:, :-1] = sc.transform(X_w_test_raw.iloc[:, :-1])\n",
    "\n",
    "\n",
    "X_w_train_raw.iloc[:, :-1] = minmax.fit_transform(X_w_train_raw.iloc[:, :-1])\n",
    "X_w_test_raw.iloc[:, :-1] = minmax.transform(X_w_test_raw.iloc[:, :-1])\n",
    "\n",
    "# On Wine Raw\n",
    "\n",
    "accuracy_raw=cross_val_score(CNB(), X_w_train_raw, y_w_train_raw, cv=5, scoring='accuracy')\n",
    "print(\"The mean accuracy with Complement Naive Bayes on Wine RAW using 5 fold is : %.2f\" %(nm.mean(accuracy_raw)*100)+\"%\")\n"
   ]
  },
  {
   "cell_type": "markdown",
   "id": "f2b76031",
   "metadata": {},
   "source": [
    "#### Wine PCA"
   ]
  },
  {
   "cell_type": "code",
   "execution_count": 57,
   "id": "651c0de4",
   "metadata": {},
   "outputs": [
    {
     "name": "stdout",
     "output_type": "stream",
     "text": [
      "The mean accuracy with Complement Naive Bayes on Wine PCA using 5 fold is : 43.08%\n"
     ]
    }
   ],
   "source": [
    "X_w_train_pca, X_w_test_pca, y_w_train_pca, y_w_test_pca = train_test_split(X_wine, y_wine, random_state= 45)\n",
    "\n",
    "\n",
    "X_w_train_pca.iloc[:, :-1] = sc.fit_transform(X_w_train_pca.iloc[:, :-1])\n",
    "X_w_test_pca.iloc[:, :-1] = sc.transform(X_w_test_pca.iloc[:, :-1])\n",
    "\n",
    "pca = PCA(0.95)\n",
    "X_w_train_pca = pca.fit_transform(X_w_train_pca)\n",
    "X_w_test_pca = pca.transform(X_w_test_pca)\n",
    "\n",
    "\n",
    "X_w_train_pca = minmax.fit_transform(X_w_train_pca)\n",
    "X_w_test_pca = minmax.transform(X_w_test_pca)\n",
    "\n",
    "# On Wine PCA\n",
    "accuracy_pca=cross_val_score(CNB(), X_w_train_pca, y_w_train_pca, cv=5, scoring='accuracy')\n",
    "print(\"The mean accuracy with Complement Naive Bayes on Wine PCA using 5 fold is : %.2f\" %(nm.mean(accuracy_pca)*100)+\"%\")"
   ]
  },
  {
   "cell_type": "markdown",
   "id": "c8532025",
   "metadata": {},
   "source": [
    "#### Wine PCA"
   ]
  },
  {
   "cell_type": "code",
   "execution_count": 58,
   "id": "73b5c4a3",
   "metadata": {},
   "outputs": [
    {
     "name": "stdout",
     "output_type": "stream",
     "text": [
      "The mean accuracy with Complement Naive Bayes on Wine LDA using 5 fold is : 42.59%\n"
     ]
    }
   ],
   "source": [
    "X_w_train_lda, X_w_test_lda, y_w_train_lda, y_w_test_lda = train_test_split(X_wine, y_wine, random_state= 45)\n",
    "\n",
    "\n",
    "X_w_train_lda.iloc[:, :-1] = sc.fit_transform(X_w_train_lda.iloc[:, :-1])\n",
    "X_w_test_lda.iloc[:, :-1] = sc.transform(X_w_test_lda.iloc[:, :-1])\n",
    "\n",
    "lda = LDA(n_components=4)\n",
    "X_w_train_lda = lda.fit_transform(X_w_train_lda, y_w_train_lda)\n",
    "X_w_test_lda = lda.transform(X_w_test_lda)\n",
    "\n",
    "X_w_train_lda = minmax.fit_transform(X_w_train_lda)\n",
    "X_w_test_lda = minmax.transform(X_w_test_lda)\n",
    "\n",
    "#On Wine LDA\n",
    "\n",
    "accuracy_lda=cross_val_score(CNB(), X_w_train_lda, y_w_train_lda, cv=5, scoring='accuracy')\n",
    "print(\"The mean accuracy with Complement Naive Bayes on Wine LDA using 5 fold is : %.2f\" %(nm.mean(accuracy_lda)*100)+\"%\")"
   ]
  },
  {
   "cell_type": "markdown",
   "id": "5e295b6a",
   "metadata": {},
   "source": [
    "##### For Complement Naive Bayes using 5 fold, the accuracy decerease from Raw(44.44%) to PCA(43.08%) to LDA(42.59%), however, using 5 fold the overall accuracy has dropped for all three datasets."
   ]
  },
  {
   "cell_type": "code",
   "execution_count": 27,
   "id": "396fb51f",
   "metadata": {},
   "outputs": [
    {
     "data": {
      "text/html": [
       "<div>\n",
       "<style scoped>\n",
       "    .dataframe tbody tr th:only-of-type {\n",
       "        vertical-align: middle;\n",
       "    }\n",
       "\n",
       "    .dataframe tbody tr th {\n",
       "        vertical-align: top;\n",
       "    }\n",
       "\n",
       "    .dataframe thead th {\n",
       "        text-align: right;\n",
       "    }\n",
       "</style>\n",
       "<table border=\"1\" class=\"dataframe\">\n",
       "  <thead>\n",
       "    <tr style=\"text-align: right;\">\n",
       "      <th></th>\n",
       "      <th>Abalone_Raw_MNB</th>\n",
       "      <th>Abalone_PCA_MNB</th>\n",
       "      <th>Abalone_LDA_MNB</th>\n",
       "      <th>Abalone_Raw_CNB</th>\n",
       "      <th>Abalone_PCA_CNB</th>\n",
       "      <th>Abalone_LDA_CNB</th>\n",
       "    </tr>\n",
       "  </thead>\n",
       "  <tbody>\n",
       "    <tr>\n",
       "      <th>With 5 Fold</th>\n",
       "      <td>16.19</td>\n",
       "      <td>16.00</td>\n",
       "      <td>16.00</td>\n",
       "      <td>17.56</td>\n",
       "      <td>20.02</td>\n",
       "      <td>23.53</td>\n",
       "    </tr>\n",
       "    <tr>\n",
       "      <th>Without 5 Fold</th>\n",
       "      <td>18.18</td>\n",
       "      <td>17.99</td>\n",
       "      <td>17.99</td>\n",
       "      <td>19.43</td>\n",
       "      <td>19.33</td>\n",
       "      <td>25.07</td>\n",
       "    </tr>\n",
       "  </tbody>\n",
       "</table>\n",
       "</div>"
      ],
      "text/plain": [
       "                Abalone_Raw_MNB  Abalone_PCA_MNB  Abalone_LDA_MNB  \\\n",
       "With 5 Fold               16.19            16.00            16.00   \n",
       "Without 5 Fold            18.18            17.99            17.99   \n",
       "\n",
       "                Abalone_Raw_CNB  Abalone_PCA_CNB  Abalone_LDA_CNB  \n",
       "With 5 Fold               17.56            20.02            23.53  \n",
       "Without 5 Fold            19.43            19.33            25.07  "
      ]
     },
     "execution_count": 27,
     "metadata": {},
     "output_type": "execute_result"
    }
   ],
   "source": [
    "abalone_accuracy_array = {'Abalone_Raw_MNB' : [16.19, 18.18],\n",
    "                    'Abalone_PCA_MNB' : [16, 17.99],\n",
    "                    'Abalone_LDA_MNB' : [16, 17.99],\n",
    "                    'Abalone_Raw_CNB' : [17.56, 19.43],\n",
    "                    'Abalone_PCA_CNB' : [20.02, 19.33],\n",
    "                    'Abalone_LDA_CNB' : [23.53, 25.07]}\n",
    "\n",
    "pd.DataFrame(abalone_accuracy_array, index = ['With 5 Fold', 'Without 5 Fold'])"
   ]
  },
  {
   "cell_type": "code",
   "execution_count": 59,
   "id": "7afd2102",
   "metadata": {},
   "outputs": [
    {
     "data": {
      "text/html": [
       "<div>\n",
       "<style scoped>\n",
       "    .dataframe tbody tr th:only-of-type {\n",
       "        vertical-align: middle;\n",
       "    }\n",
       "\n",
       "    .dataframe tbody tr th {\n",
       "        vertical-align: top;\n",
       "    }\n",
       "\n",
       "    .dataframe thead th {\n",
       "        text-align: right;\n",
       "    }\n",
       "</style>\n",
       "<table border=\"1\" class=\"dataframe\">\n",
       "  <thead>\n",
       "    <tr style=\"text-align: right;\">\n",
       "      <th></th>\n",
       "      <th>Wine_Raw_MNB</th>\n",
       "      <th>Wine_PCA_MNB</th>\n",
       "      <th>Wine_LDA_MNB</th>\n",
       "      <th>Wine_Raw_CNB</th>\n",
       "      <th>Wine_PCA_CNB</th>\n",
       "      <th>Wine_LDA_CNB</th>\n",
       "    </tr>\n",
       "  </thead>\n",
       "  <tbody>\n",
       "    <tr>\n",
       "      <th>With 5 Fold</th>\n",
       "      <td>47.89</td>\n",
       "      <td>44.46</td>\n",
       "      <td>44.46</td>\n",
       "      <td>44.40</td>\n",
       "      <td>43.08</td>\n",
       "      <td>42.59</td>\n",
       "    </tr>\n",
       "    <tr>\n",
       "      <th>Without 5 Fold</th>\n",
       "      <td>47.26</td>\n",
       "      <td>41.23</td>\n",
       "      <td>41.23</td>\n",
       "      <td>42.83</td>\n",
       "      <td>44.74</td>\n",
       "      <td>44.68</td>\n",
       "    </tr>\n",
       "  </tbody>\n",
       "</table>\n",
       "</div>"
      ],
      "text/plain": [
       "                Wine_Raw_MNB  Wine_PCA_MNB  Wine_LDA_MNB  Wine_Raw_CNB  \\\n",
       "With 5 Fold            47.89         44.46         44.46         44.40   \n",
       "Without 5 Fold         47.26         41.23         41.23         42.83   \n",
       "\n",
       "                Wine_PCA_CNB  Wine_LDA_CNB  \n",
       "With 5 Fold            43.08         42.59  \n",
       "Without 5 Fold         44.74         44.68  "
      ]
     },
     "execution_count": 59,
     "metadata": {},
     "output_type": "execute_result"
    }
   ],
   "source": [
    "wine_accuracy_array = {'Wine_Raw_MNB' : [47.89, 47.26],\n",
    "                    'Wine_PCA_MNB' : [44.46, 41.23],\n",
    "                    'Wine_LDA_MNB' : [44.46, 41.23],\n",
    "                    'Wine_Raw_CNB' : [44.4, 42.83],\n",
    "                    'Wine_PCA_CNB' : [43.08,44.74],\n",
    "                    'Wine_LDA_CNB' : [42.59, 44.68]}\n",
    "\n",
    "pd.DataFrame(wine_accuracy_array, index = ['With 5 Fold', 'Without 5 Fold'])"
   ]
  },
  {
   "cell_type": "markdown",
   "id": "8822995d",
   "metadata": {},
   "source": [
    "#### The Accuracies for MNB Classifier remained same for both PCA and LDA in both the datasets."
   ]
  }
 ],
 "metadata": {
  "hide_input": false,
  "kernelspec": {
   "display_name": "Python 3 (ipykernel)",
   "language": "python",
   "name": "python3"
  },
  "language_info": {
   "codemirror_mode": {
    "name": "ipython",
    "version": 3
   },
   "file_extension": ".py",
   "mimetype": "text/x-python",
   "name": "python",
   "nbconvert_exporter": "python",
   "pygments_lexer": "ipython3",
   "version": "3.9.13"
  },
  "varInspector": {
   "cols": {
    "lenName": 16,
    "lenType": 16,
    "lenVar": 40
   },
   "kernels_config": {
    "python": {
     "delete_cmd_postfix": "",
     "delete_cmd_prefix": "del ",
     "library": "var_list.py",
     "varRefreshCmd": "print(var_dic_list())"
    },
    "r": {
     "delete_cmd_postfix": ") ",
     "delete_cmd_prefix": "rm(",
     "library": "var_list.r",
     "varRefreshCmd": "cat(var_dic_list()) "
    }
   },
   "types_to_exclude": [
    "module",
    "function",
    "builtin_function_or_method",
    "instance",
    "_Feature"
   ],
   "window_display": false
  }
 },
 "nbformat": 4,
 "nbformat_minor": 5
}
