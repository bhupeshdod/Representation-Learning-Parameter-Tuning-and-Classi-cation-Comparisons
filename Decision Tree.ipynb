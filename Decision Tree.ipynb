{
 "cells": [
  {
   "cell_type": "markdown",
   "id": "634e5301",
   "metadata": {},
   "source": [
    "## Assignment 2.3 - Decision Tree\n",
    "    Submitted by: \n",
    "    Amandeep Kaur (21044104)                                                                                   \n",
    "    Bhupesh Dod (21046099)"
   ]
  },
  {
   "cell_type": "markdown",
   "id": "514d563a",
   "metadata": {},
   "source": [
    "## Import the Libraries"
   ]
  },
  {
   "cell_type": "code",
   "execution_count": 4,
   "id": "8edd1f77",
   "metadata": {},
   "outputs": [],
   "source": [
    "import numpy as nm\n",
    "import pandas as pd\n",
    "import seaborn as sns\n",
    "import matplotlib.pyplot as plt\n",
    "import matplotlib.cm as cm\n",
    "import scipy.stats as stats\n",
    "\n",
    "import warnings\n",
    "warnings.filterwarnings(\"ignore\")\n",
    "\n",
    "\n",
    "from sklearn.model_selection import train_test_split\n",
    "from sklearn.preprocessing import StandardScaler\n",
    "from sklearn.metrics import confusion_matrix, accuracy_score, f1_score\n",
    "from sklearn.decomposition import PCA\n",
    "from sklearn.discriminant_analysis import LinearDiscriminantAnalysis as LDA\n",
    "from sklearn.tree import DecisionTreeClassifier as DT\n",
    "from sklearn.model_selection import GridSearchCV\n",
    "from sklearn.tree import plot_tree as plt_tree\n",
    "from sklearn.tree import export_text as expt"
   ]
  },
  {
   "cell_type": "markdown",
   "id": "8b1ce3f5",
   "metadata": {},
   "source": [
    "## Import the Data"
   ]
  },
  {
   "cell_type": "code",
   "execution_count": 5,
   "id": "0da6475c",
   "metadata": {},
   "outputs": [],
   "source": [
    "abalone_data = pd.read_csv(\"/Users/amandeepkaur/Desktop/ECE657A/Assignments /Assignment 2/ece657a-W23-asg2-datasets-jupyterdemo/abalone.csv\",\n",
    "names= ['Sex', 'Length', 'Diameter', 'Height', 'Whole_weight', 'Shucked_weight', \n",
    "'Viscera_weight','Shell_weight', 'Rings'])\n",
    "\n",
    "\n",
    "wine_data1 = pd.read_csv(\"/Users/amandeepkaur/Desktop/ECE657A/Assignments /Assignment 2/ece657a-W23-asg2-datasets-jupyterdemo/winequality-red.csv\",\n",
    " sep = \";\")\n",
    "wine_data1[\"colour\"]=1\n",
    "wine_data1 = wine_data1[list(('fixed acidity', 'volatile acidity', 'citric acid', 'residual sugar', 'chlorides', 'free sulfur dioxide', 'total sulfur dioxide', 'density', 'pH', 'sulphates', 'alcohol', 'colour', 'quality'))]\n",
    "\n",
    "wine_data2 = pd.read_csv(\"/Users/amandeepkaur/Desktop/ECE657A/Assignments /Assignment 2/ece657a-W23-asg2-datasets-jupyterdemo/winequality-white.csv\",\n",
    "sep = \";\")\n",
    "wine_data2[\"colour\"]=0\n",
    "wine_data2 = wine_data2[list(('fixed acidity', 'volatile acidity', 'citric acid', 'residual sugar', 'chlorides', 'free sulfur dioxide', 'total sulfur dioxide', 'density', 'pH', 'sulphates', 'alcohol', 'colour', 'quality'))]\n",
    "\n",
    "wine_data = pd.concat([wine_data1, wine_data2])\n",
    "\n",
    "wine_data = wine_data.reset_index()\n",
    "\n",
    "X_abalone = abalone_data.iloc[:, 1:-1]\n",
    "y_abalone = abalone_data.iloc[:, -1]\n",
    "\n",
    "X_wine = wine_data.iloc[:, :-1]\n",
    "y_wine = wine_data.iloc[:, -1]\n",
    "\n",
    "sc = StandardScaler()"
   ]
  },
  {
   "cell_type": "markdown",
   "id": "0e9e8466",
   "metadata": {},
   "source": [
    "## Decision Tree"
   ]
  },
  {
   "cell_type": "markdown",
   "id": "f81627e1",
   "metadata": {},
   "source": [
    "### Abalone Raw"
   ]
  },
  {
   "cell_type": "code",
   "execution_count": 6,
   "id": "7894d0c5",
   "metadata": {
    "scrolled": false
   },
   "outputs": [
    {
     "name": "stdout",
     "output_type": "stream",
     "text": [
      "Decision tree Accuracy for Abalone RAW with default params :19.62%\n"
     ]
    }
   ],
   "source": [
    "X_a_train_raw, X_a_test_raw, y_a_train_raw, y_a_test_raw = train_test_split(X_abalone, y_abalone, random_state= 45)\n",
    "\n",
    "\n",
    "sc = StandardScaler()\n",
    "X_a_train_raw.iloc[:, :] = sc.fit_transform(X_a_train_raw.iloc[:, :])\n",
    "X_a_test_raw.iloc[:, :] = sc.transform(X_a_test_raw.iloc[:, :])\n",
    "\n",
    "\n",
    "# On Abalone Raw\n",
    "dt = DT(random_state = 0)\n",
    "X_a_train_raw = dt.fit(X_a_train_raw , y_a_train_raw)\n",
    "y_a_pred_raw = dt.predict(X_a_test_raw)\n",
    "\n",
    "print(\"Decision tree Accuracy for Abalone RAW with default params :%.2f\" % (accuracy_score(y_a_pred_raw, y_a_test_raw)*100) + \"%\")"
   ]
  },
  {
   "cell_type": "markdown",
   "id": "ddeec121",
   "metadata": {},
   "source": [
    "### Abalone PCA"
   ]
  },
  {
   "cell_type": "code",
   "execution_count": 7,
   "id": "203e4b51",
   "metadata": {},
   "outputs": [
    {
     "name": "stdout",
     "output_type": "stream",
     "text": [
      "Decision tree Accuracy for Abalone PCA with default params :18.47%\n"
     ]
    }
   ],
   "source": [
    "X_a_train_pca, X_a_test_pca, y_a_train_pca, y_a_test_pca = train_test_split(X_abalone, y_abalone, random_state= 45)\n",
    "\n",
    "\n",
    "X_a_train_pca = sc.fit_transform(X_a_train_pca)\n",
    "X_a_test_pca = sc.transform(X_a_test_pca)\n",
    "\n",
    "pca = PCA(0.95)\n",
    "X_a_train_pca = pca.fit_transform(X_a_train_pca)\n",
    "X_a_test_pca = pca.transform(X_a_test_pca)\n",
    "\n",
    "\n",
    "# On Abalone PCA\n",
    "X_a_train_pca = dt.fit(X_a_train_pca, y_a_train_pca)\n",
    "y_a_pred_pca = dt.predict(X_a_test_pca)\n",
    "print(\"Decision tree Accuracy for Abalone PCA with default params :%.2f\" % (accuracy_score(y_a_pred_pca, y_a_test_pca)*100) + \"%\")\n"
   ]
  },
  {
   "cell_type": "markdown",
   "id": "12857178",
   "metadata": {},
   "source": [
    "### Abalone LDA"
   ]
  },
  {
   "cell_type": "code",
   "execution_count": 8,
   "id": "94a36f39",
   "metadata": {},
   "outputs": [
    {
     "name": "stdout",
     "output_type": "stream",
     "text": [
      "Decision tree Accuracy for Abalone LDA with default params :19.14%\n"
     ]
    }
   ],
   "source": [
    "X_a_train_lda, X_a_test_lda, y_a_train_lda, y_a_test_lda = train_test_split(X_abalone, y_abalone, random_state= 45)\n",
    "\n",
    "\n",
    "X_a_train_lda = sc.fit_transform(X_a_train_lda)\n",
    "X_a_test_lda = sc.transform(X_a_test_lda)\n",
    "\n",
    "lda = LDA(n_components=4)\n",
    "X_a_train_lda = lda.fit_transform(X_a_train_lda, y_a_train_lda)\n",
    "X_a_test_lda = lda.transform(X_a_test_lda)\n",
    "\n",
    "#On Abalone LDA\n",
    "\n",
    "X_a_train_lda = dt.fit(X_a_train_lda, y_a_train_lda)\n",
    "y_a_pred_lda = dt.predict(X_a_test_lda)\n",
    "\n",
    "\n",
    "print(\"Decision tree Accuracy for Abalone LDA with default params :%.2f\" % (accuracy_score(y_a_pred_lda, y_a_test_lda)*100) + \"%\")"
   ]
  },
  {
   "cell_type": "markdown",
   "id": "3b22fc9b",
   "metadata": {},
   "source": [
    "## Using GridSearchCV"
   ]
  },
  {
   "cell_type": "markdown",
   "id": "8b83f897",
   "metadata": {},
   "source": [
    "### Abalone Raw"
   ]
  },
  {
   "cell_type": "code",
   "execution_count": 9,
   "id": "a0666380",
   "metadata": {},
   "outputs": [
    {
     "name": "stdout",
     "output_type": "stream",
     "text": [
      "Best Parameters for Abalone Raw Random forest are:{'max_depth': 5}\n"
     ]
    }
   ],
   "source": [
    "X_a_train_raw, X_a_test_raw, y_a_train_raw, y_a_test_raw = train_test_split(X_abalone, y_abalone, random_state= 100)\n",
    "\n",
    "\n",
    "X_a_train_raw.iloc[:, :] = sc.fit_transform(X_a_train_raw.iloc[:, :])\n",
    "X_a_test_raw.iloc[:, :] = sc.transform(X_a_test_raw.iloc[:, :])\n",
    "\n",
    "\n",
    "param_grid = {'max_depth' : [1,2,3,4,5,6,7,8,9,10,11,12,13,14]}\n",
    "\n",
    "grid = GridSearchCV(DT(), param_grid, refit= True, verbose=0)\n",
    "grid.fit(X_a_train_raw, y_a_train_raw)\n",
    "print(\"Best Parameters for Abalone Raw Random forest are:\" +str(grid.best_params_))"
   ]
  },
  {
   "cell_type": "code",
   "execution_count": 10,
   "id": "8f22753e",
   "metadata": {},
   "outputs": [
    {
     "data": {
      "text/plain": [
       "Text(0, 0.5, 'Accuracy')"
      ]
     },
     "execution_count": 10,
     "metadata": {},
     "output_type": "execute_result"
    },
    {
     "data": {
      "image/png": "[encoded data removed]",
      "text/plain": [
       "<Figure size 640x480 with 1 Axes>"
      ]
     },
     "metadata": {},
     "output_type": "display_data"
    }
   ],
   "source": [
    "results = pd.DataFrame(grid.cv_results_)\n",
    "fig, ax = plt.subplots()\n",
    "r = range(1,15)\n",
    "ax.plot(r,results['mean_test_score'])\n",
    "plt.title(\"Maximum Depth vs Accuracy Abalone Raw\")\n",
    "plt.xlabel('Maximum Depth')\n",
    "plt.ylabel('Accuracy')"
   ]
  },
  {
   "cell_type": "code",
   "execution_count": 15,
   "id": "1f0ab7ff",
   "metadata": {},
   "outputs": [
    {
     "data": {
      "text/html": [
       "<div>\n",
       "<style scoped>\n",
       "    .dataframe tbody tr th:only-of-type {\n",
       "        vertical-align: middle;\n",
       "    }\n",
       "\n",
       "    .dataframe tbody tr th {\n",
       "        vertical-align: top;\n",
       "    }\n",
       "\n",
       "    .dataframe thead th {\n",
       "        text-align: right;\n",
       "    }\n",
       "</style>\n",
       "<table border=\"1\" class=\"dataframe\">\n",
       "  <thead>\n",
       "    <tr style=\"text-align: right;\">\n",
       "      <th></th>\n",
       "      <th>mean_fit_time</th>\n",
       "      <th>std_fit_time</th>\n",
       "      <th>mean_score_time</th>\n",
       "      <th>std_score_time</th>\n",
       "      <th>param_max_depth</th>\n",
       "      <th>params</th>\n",
       "      <th>split0_test_score</th>\n",
       "      <th>split1_test_score</th>\n",
       "      <th>split2_test_score</th>\n",
       "      <th>split3_test_score</th>\n",
       "      <th>split4_test_score</th>\n",
       "      <th>mean_test_score</th>\n",
       "      <th>std_test_score</th>\n",
       "      <th>rank_test_score</th>\n",
       "    </tr>\n",
       "  </thead>\n",
       "  <tbody>\n",
       "    <tr>\n",
       "      <th>4</th>\n",
       "      <td>0.005154</td>\n",
       "      <td>0.000025</td>\n",
       "      <td>0.000613</td>\n",
       "      <td>0.000002</td>\n",
       "      <td>5</td>\n",
       "      <td>{'max_depth': 5}</td>\n",
       "      <td>0.287081</td>\n",
       "      <td>0.282297</td>\n",
       "      <td>0.258786</td>\n",
       "      <td>0.239617</td>\n",
       "      <td>0.252396</td>\n",
       "      <td>0.264035</td>\n",
       "      <td>0.018022</td>\n",
       "      <td>1</td>\n",
       "    </tr>\n",
       "  </tbody>\n",
       "</table>\n",
       "</div>"
      ],
      "text/plain": [
       "   mean_fit_time  std_fit_time  mean_score_time  std_score_time  \\\n",
       "4       0.005154      0.000025         0.000613        0.000002   \n",
       "\n",
       "  param_max_depth            params  split0_test_score  split1_test_score  \\\n",
       "4               5  {'max_depth': 5}           0.287081           0.282297   \n",
       "\n",
       "   split2_test_score  split3_test_score  split4_test_score  mean_test_score  \\\n",
       "4           0.258786           0.239617           0.252396         0.264035   \n",
       "\n",
       "   std_test_score  rank_test_score  \n",
       "4        0.018022                1  "
      ]
     },
     "execution_count": 15,
     "metadata": {},
     "output_type": "execute_result"
    }
   ],
   "source": [
    "a_abalone_raw=results.loc[results['mean_test_score'] == max(results['mean_test_score'])]\n",
    "a_abalone_raw"
   ]
  },
  {
   "cell_type": "code",
   "execution_count": 16,
   "id": "6e415537",
   "metadata": {},
   "outputs": [
    {
     "name": "stdout",
     "output_type": "stream",
     "text": [
      "Decision tree Accuracy for Abalone RAW with best params :24.69%\n",
      "|--- Shell_weight <= 0.14\n",
      "|   |--- Shell_weight <= 0.06\n",
      "|   |   |--- Shell_weight <= 0.02\n",
      "|   |   |   |--- Whole_weight <= 0.02\n",
      "|   |   |   |   |--- truncated branch of depth 2\n",
      "|   |   |   |--- Whole_weight >  0.02\n",
      "|   |   |   |   |--- truncated branch of depth 2\n",
      "|   |   |--- Shell_weight >  0.02\n",
      "|   |   |   |--- Viscera_weight <= 0.02\n",
      "|   |   |   |   |--- truncated branch of depth 2\n",
      "|   |   |   |--- Viscera_weight >  0.02\n",
      "|   |   |   |   |--- truncated branch of depth 2\n",
      "|   |--- Shell_weight >  0.06\n",
      "|   |   |--- Shell_weight <= 0.11\n",
      "|   |   |   |--- Shucked_weight <= 0.08\n",
      "|   |   |   |   |--- truncated branch of depth 2\n",
      "|   |   |   |--- Shucked_weight >  0.08\n",
      "|   |   |   |   |--- truncated branch of depth 2\n",
      "|   |   |--- Shell_weight >  0.11\n",
      "|   |   |   |--- Shucked_weight <= 0.23\n",
      "|   |   |   |   |--- truncated branch of depth 2\n",
      "|   |   |   |--- Shucked_weight >  0.23\n",
      "|   |   |   |   |--- truncated branch of depth 2\n",
      "|--- Shell_weight >  0.14\n",
      "|   |--- Shell_weight <= 0.25\n",
      "|   |   |--- Shucked_weight <= 0.43\n",
      "|   |   |   |--- Shell_weight <= 0.19\n",
      "|   |   |   |   |--- truncated branch of depth 2\n",
      "|   |   |   |--- Shell_weight >  0.19\n",
      "|   |   |   |   |--- truncated branch of depth 2\n",
      "|   |   |--- Shucked_weight >  0.43\n",
      "|   |   |   |--- Whole_weight <= 0.98\n",
      "|   |   |   |   |--- truncated branch of depth 2\n",
      "|   |   |   |--- Whole_weight >  0.98\n",
      "|   |   |   |   |--- truncated branch of depth 2\n",
      "|   |--- Shell_weight >  0.25\n",
      "|   |   |--- Shell_weight <= 0.36\n",
      "|   |   |   |--- Shucked_weight <= 0.43\n",
      "|   |   |   |   |--- truncated branch of depth 2\n",
      "|   |   |   |--- Shucked_weight >  0.43\n",
      "|   |   |   |   |--- truncated branch of depth 2\n",
      "|   |   |--- Shell_weight >  0.36\n",
      "|   |   |   |--- Shucked_weight <= 0.55\n",
      "|   |   |   |   |--- truncated branch of depth 2\n",
      "|   |   |   |--- Shucked_weight >  0.55\n",
      "|   |   |   |   |--- truncated branch of depth 2\n",
      "\n"
     ]
    }
   ],
   "source": [
    "X_a_train_raw, X_a_test_raw, y_a_train_raw, y_a_test_raw = train_test_split(X_abalone, y_abalone, random_state= 45)\n",
    "\n",
    "\n",
    "dt = DT(max_depth=5)\n",
    "X_a_train_raw = dt.fit(X_a_train_raw , y_a_train_raw)\n",
    "y_a_pred_raw = dt.predict(X_a_test_raw)\n",
    "\n",
    "print(\"Decision tree Accuracy for Abalone RAW with best params :%.2f\" % (accuracy_score(y_a_pred_raw, y_a_test_raw)*100) + \"%\")\n",
    "#fig = plt.figure(figsize=(25,20))\n",
    "#plt_tree(dt, max_depth= 1, filled=True)\n",
    "\n",
    "print(expt(dt, max_depth=3, feature_names=list(X_abalone.columns)))"
   ]
  },
  {
   "cell_type": "markdown",
   "id": "0bef06ec",
   "metadata": {},
   "source": [
    "### Abalone PCA"
   ]
  },
  {
   "cell_type": "code",
   "execution_count": 10,
   "id": "58b1719b",
   "metadata": {},
   "outputs": [
    {
     "name": "stdout",
     "output_type": "stream",
     "text": [
      "Best Parameters for Abalone PCA Random forest are:{'max_depth': 4}\n"
     ]
    }
   ],
   "source": [
    "X_a_train_pca, X_a_test_pca, y_a_train_pca, y_a_test_pca = train_test_split(X_abalone, y_abalone, random_state= 45)\n",
    "\n",
    "\n",
    "X_a_train_pca = sc.fit_transform(X_a_train_pca)\n",
    "X_a_test_pca = sc.transform(X_a_test_pca)\n",
    "\n",
    "pca = PCA(0.95)\n",
    "X_a_train_pca = pca.fit_transform(X_a_train_pca)\n",
    "X_a_test_pca = pca.transform(X_a_test_pca)\n",
    "\n",
    "param_grid = { 'max_depth' : [1,2,3,4,5,6,7,8,9,10,11,12,13,14]}\n",
    "\n",
    "grid = GridSearchCV(DT(), param_grid, refit= True, verbose=0)\n",
    "grid.fit(X_a_train_pca, y_a_train_pca)\n",
    "print(\"Best Parameters for Abalone PCA Random forest are:\" +str(grid.best_params_)) "
   ]
  },
  {
   "cell_type": "code",
   "execution_count": 11,
   "id": "0df1c5e9",
   "metadata": {},
   "outputs": [
    {
     "data": {
      "text/plain": [
       "Text(0, 0.5, 'Accuracy')"
      ]
     },
     "execution_count": 11,
     "metadata": {},
     "output_type": "execute_result"
    },
    {
     "data": {
      "image/png": "[encoded data removed]",
      "text/plain": [
       "<Figure size 640x480 with 1 Axes>"
      ]
     },
     "metadata": {},
     "output_type": "display_data"
    }
   ],
   "source": [
    "results = pd.DataFrame(grid.cv_results_)\n",
    "fig, ax = plt.subplots()\n",
    "r = range(1,15)\n",
    "ax.plot(r,results['mean_test_score'])\n",
    "plt.title(\"Maximum Depth vs Accuracy, Abalone PCA\")\n",
    "plt.xlabel('Maximum Depth')\n",
    "plt.ylabel('Accuracy')\n"
   ]
  },
  {
   "cell_type": "code",
   "execution_count": 12,
   "id": "7b394909",
   "metadata": {},
   "outputs": [
    {
     "data": {
      "text/html": [
       "<div>\n",
       "<style scoped>\n",
       "    .dataframe tbody tr th:only-of-type {\n",
       "        vertical-align: middle;\n",
       "    }\n",
       "\n",
       "    .dataframe tbody tr th {\n",
       "        vertical-align: top;\n",
       "    }\n",
       "\n",
       "    .dataframe thead th {\n",
       "        text-align: right;\n",
       "    }\n",
       "</style>\n",
       "<table border=\"1\" class=\"dataframe\">\n",
       "  <thead>\n",
       "    <tr style=\"text-align: right;\">\n",
       "      <th></th>\n",
       "      <th>mean_fit_time</th>\n",
       "      <th>std_fit_time</th>\n",
       "      <th>mean_score_time</th>\n",
       "      <th>std_score_time</th>\n",
       "      <th>param_max_depth</th>\n",
       "      <th>params</th>\n",
       "      <th>split0_test_score</th>\n",
       "      <th>split1_test_score</th>\n",
       "      <th>split2_test_score</th>\n",
       "      <th>split3_test_score</th>\n",
       "      <th>split4_test_score</th>\n",
       "      <th>mean_test_score</th>\n",
       "      <th>std_test_score</th>\n",
       "      <th>rank_test_score</th>\n",
       "    </tr>\n",
       "  </thead>\n",
       "  <tbody>\n",
       "    <tr>\n",
       "      <th>3</th>\n",
       "      <td>0.003554</td>\n",
       "      <td>0.000051</td>\n",
       "      <td>0.000234</td>\n",
       "      <td>0.000023</td>\n",
       "      <td>4</td>\n",
       "      <td>{'max_depth': 4}</td>\n",
       "      <td>0.256778</td>\n",
       "      <td>0.242424</td>\n",
       "      <td>0.260383</td>\n",
       "      <td>0.234824</td>\n",
       "      <td>0.253994</td>\n",
       "      <td>0.249681</td>\n",
       "      <td>0.009559</td>\n",
       "      <td>1</td>\n",
       "    </tr>\n",
       "  </tbody>\n",
       "</table>\n",
       "</div>"
      ],
      "text/plain": [
       "   mean_fit_time  std_fit_time  mean_score_time  std_score_time  \\\n",
       "3       0.003554      0.000051         0.000234        0.000023   \n",
       "\n",
       "  param_max_depth            params  split0_test_score  split1_test_score  \\\n",
       "3               4  {'max_depth': 4}           0.256778           0.242424   \n",
       "\n",
       "   split2_test_score  split3_test_score  split4_test_score  mean_test_score  \\\n",
       "3           0.260383           0.234824           0.253994         0.249681   \n",
       "\n",
       "   std_test_score  rank_test_score  \n",
       "3        0.009559                1  "
      ]
     },
     "execution_count": 12,
     "metadata": {},
     "output_type": "execute_result"
    }
   ],
   "source": [
    "results.loc[results['mean_test_score'] == max(results['mean_test_score'])]"
   ]
  },
  {
   "cell_type": "code",
   "execution_count": 35,
   "id": "706a1b9a",
   "metadata": {},
   "outputs": [
    {
     "name": "stdout",
     "output_type": "stream",
     "text": [
      "Decision tree Accuracy for Abalone PCA with best params :27.94%\n"
     ]
    }
   ],
   "source": [
    "X_a_train_pca, X_a_test_pca, y_a_train_pca, y_a_test_pca = train_test_split(X_abalone, y_abalone, random_state= 45)\n",
    "\n",
    "\n",
    "X_a_train_pca = sc.fit_transform(X_a_train_pca)\n",
    "X_a_test_pca = sc.transform(X_a_test_pca)\n",
    "\n",
    "pca = PCA(0.95)\n",
    "X_a_train_pca = pca.fit_transform(X_a_train_pca)\n",
    "X_a_test_pca = pca.transform(X_a_test_pca)\n",
    "\n",
    "dt = DT(max_depth=4)\n",
    "X_a_train_pca = dt.fit(X_a_train_pca , y_a_train_pca)\n",
    "y_a_pred_pca = dt.predict(X_a_test_pca)\n",
    "\n",
    "print(\"Decision tree Accuracy for Abalone PCA with best params :%.2f\" % (accuracy_score(y_a_pred_pca, y_a_test_pca)*100) + \"%\")"
   ]
  },
  {
   "cell_type": "markdown",
   "id": "6cbcd390",
   "metadata": {},
   "source": [
    "### Abalone LDA"
   ]
  },
  {
   "cell_type": "code",
   "execution_count": 13,
   "id": "c21c71e3",
   "metadata": {},
   "outputs": [
    {
     "name": "stdout",
     "output_type": "stream",
     "text": [
      "Best Parameters for Abalone LDA Random forest are:{'max_depth': 4}\n"
     ]
    }
   ],
   "source": [
    "X_a_train_lda, X_a_test_lda, y_a_train_lda, y_a_test_lda = train_test_split(X_abalone, y_abalone, random_state= 45)\n",
    "\n",
    "\n",
    "X_a_train_lda = sc.fit_transform(X_a_train_lda)\n",
    "X_a_test_lda = sc.transform(X_a_test_lda)\n",
    "\n",
    "lda = LDA(n_components=4)\n",
    "X_a_train_lda = lda.fit_transform(X_a_train_lda, y_a_train_lda)\n",
    "X_a_test_lda = lda.transform(X_a_test_lda)\n",
    "\n",
    "param_grid = { 'max_depth' : [1,2,3,4,5,6,7,8,9,10,11,12,13,14]}\n",
    "\n",
    "grid = GridSearchCV(DT(), param_grid, refit= True, verbose=0)\n",
    "grid.fit(X_a_train_lda, y_a_train_lda)\n",
    "print(\"Best Parameters for Abalone LDA Random forest are:\" +str(grid.best_params_))"
   ]
  },
  {
   "cell_type": "code",
   "execution_count": 14,
   "id": "b32dbb42",
   "metadata": {},
   "outputs": [
    {
     "data": {
      "text/plain": [
       "Text(0, 0.5, 'Accuracy')"
      ]
     },
     "execution_count": 14,
     "metadata": {},
     "output_type": "execute_result"
    },
    {
     "data": {
      "image/png": "[encoded data removed]",
      "text/plain": [
       "<Figure size 640x480 with 1 Axes>"
      ]
     },
     "metadata": {},
     "output_type": "display_data"
    }
   ],
   "source": [
    "results = pd.DataFrame(grid.cv_results_)\n",
    "fig, ax = plt.subplots()\n",
    "r = range(1,15)\n",
    "ax.plot(r,results['mean_test_score'])\n",
    "plt.title(\"Maximum Depth vs Accuracy, Abalone LDA\")\n",
    "plt.xlabel('Maximum Depth')\n",
    "plt.ylabel('Accuracy')\n"
   ]
  },
  {
   "cell_type": "code",
   "execution_count": 15,
   "id": "46e19284",
   "metadata": {},
   "outputs": [
    {
     "data": {
      "text/html": [
       "<div>\n",
       "<style scoped>\n",
       "    .dataframe tbody tr th:only-of-type {\n",
       "        vertical-align: middle;\n",
       "    }\n",
       "\n",
       "    .dataframe tbody tr th {\n",
       "        vertical-align: top;\n",
       "    }\n",
       "\n",
       "    .dataframe thead th {\n",
       "        text-align: right;\n",
       "    }\n",
       "</style>\n",
       "<table border=\"1\" class=\"dataframe\">\n",
       "  <thead>\n",
       "    <tr style=\"text-align: right;\">\n",
       "      <th></th>\n",
       "      <th>mean_fit_time</th>\n",
       "      <th>std_fit_time</th>\n",
       "      <th>mean_score_time</th>\n",
       "      <th>std_score_time</th>\n",
       "      <th>param_max_depth</th>\n",
       "      <th>params</th>\n",
       "      <th>split0_test_score</th>\n",
       "      <th>split1_test_score</th>\n",
       "      <th>split2_test_score</th>\n",
       "      <th>split3_test_score</th>\n",
       "      <th>split4_test_score</th>\n",
       "      <th>mean_test_score</th>\n",
       "      <th>std_test_score</th>\n",
       "      <th>rank_test_score</th>\n",
       "    </tr>\n",
       "  </thead>\n",
       "  <tbody>\n",
       "    <tr>\n",
       "      <th>3</th>\n",
       "      <td>0.004525</td>\n",
       "      <td>0.00005</td>\n",
       "      <td>0.000228</td>\n",
       "      <td>0.000005</td>\n",
       "      <td>4</td>\n",
       "      <td>{'max_depth': 4}</td>\n",
       "      <td>0.220096</td>\n",
       "      <td>0.247209</td>\n",
       "      <td>0.253994</td>\n",
       "      <td>0.271565</td>\n",
       "      <td>0.255591</td>\n",
       "      <td>0.249691</td>\n",
       "      <td>0.016816</td>\n",
       "      <td>1</td>\n",
       "    </tr>\n",
       "  </tbody>\n",
       "</table>\n",
       "</div>"
      ],
      "text/plain": [
       "   mean_fit_time  std_fit_time  mean_score_time  std_score_time  \\\n",
       "3       0.004525       0.00005         0.000228        0.000005   \n",
       "\n",
       "  param_max_depth            params  split0_test_score  split1_test_score  \\\n",
       "3               4  {'max_depth': 4}           0.220096           0.247209   \n",
       "\n",
       "   split2_test_score  split3_test_score  split4_test_score  mean_test_score  \\\n",
       "3           0.253994           0.271565           0.255591         0.249691   \n",
       "\n",
       "   std_test_score  rank_test_score  \n",
       "3        0.016816                1  "
      ]
     },
     "execution_count": 15,
     "metadata": {},
     "output_type": "execute_result"
    }
   ],
   "source": [
    "results.loc[results['mean_test_score'] == max(results['mean_test_score'])]"
   ]
  },
  {
   "cell_type": "code",
   "execution_count": 31,
   "id": "713f0733",
   "metadata": {},
   "outputs": [
    {
     "name": "stdout",
     "output_type": "stream",
     "text": [
      "Decision tree Accuracy for Abalone LDA with best params :24.69%\n"
     ]
    }
   ],
   "source": [
    "X_a_train_lda, X_a_test_lda, y_a_train_lda, y_a_test_lda = train_test_split(X_abalone, y_abalone, random_state= 45)\n",
    "X_a_train_lda = sc.fit_transform(X_a_train_lda)\n",
    "X_a_test_lda = sc.transform(X_a_test_lda)\n",
    "\n",
    "lda = LDA(n_components=4)\n",
    "X_a_train_lda = lda.fit_transform(X_a_train_lda, y_a_train_lda)\n",
    "X_a_test_lda = lda.transform(X_a_test_lda)\n",
    "\n",
    "\n",
    "dt = DT(max_depth=4)\n",
    "X_a_train_lda = dt.fit(X_a_train_lda , y_a_train_lda)\n",
    "y_a_pred_lda = dt.predict(X_a_test_lda)\n",
    "\n",
    "print(\"Decision tree Accuracy for Abalone LDA with best params :%.2f\" % (accuracy_score(y_a_pred_lda, y_a_test_lda)*100) + \"%\")\n"
   ]
  },
  {
   "cell_type": "markdown",
   "id": "a63c2d4f",
   "metadata": {},
   "source": [
    "## Wine Data"
   ]
  },
  {
   "cell_type": "markdown",
   "id": "812f9595",
   "metadata": {},
   "source": [
    "## Wine Raw"
   ]
  },
  {
   "cell_type": "code",
   "execution_count": 36,
   "id": "dca9bbcd",
   "metadata": {},
   "outputs": [
    {
     "name": "stdout",
     "output_type": "stream",
     "text": [
      "Decision tree Accuracy for Wine RAW with default params :57.35%\n"
     ]
    }
   ],
   "source": [
    "X_w_train_raw, X_w_test_raw, y_w_train_raw, y_w_test_raw = train_test_split(X_wine, y_wine, random_state= 45)\n",
    "\n",
    "X_w_train_raw.iloc[:, :-1] = sc.fit_transform(X_w_train_raw.iloc[:, :-1])\n",
    "X_w_test_raw.iloc[:, :-1] = sc.transform(X_w_test_raw.iloc[:, :-1])\n",
    "\n",
    "\n",
    "# On Wine Raw\n",
    "dt = DT(random_state = 0)\n",
    "X_w_train_raw = dt.fit(X_w_train_raw , y_w_train_raw)\n",
    "y_w_pred_raw = dt.predict(X_w_test_raw)\n",
    "accuracy_score(y_w_pred_raw, y_w_test_raw)\n",
    "print(\"Decision tree Accuracy for Wine RAW with default params :%.2f\" % (accuracy_score(y_w_pred_raw, y_w_test_raw)*100) + \"%\")"
   ]
  },
  {
   "cell_type": "markdown",
   "id": "cacddc83",
   "metadata": {},
   "source": [
    "## Wine PCA"
   ]
  },
  {
   "cell_type": "code",
   "execution_count": 37,
   "id": "e233bb25",
   "metadata": {},
   "outputs": [
    {
     "name": "stdout",
     "output_type": "stream",
     "text": [
      "Decision tree Accuracy for Wine PCA with default params :59.02%\n"
     ]
    }
   ],
   "source": [
    "X_w_train_pca, X_w_test_pca, y_w_train_pca, y_w_test_pca = train_test_split(X_wine, y_wine, random_state= 45)\n",
    "\n",
    "X_w_train_pca.iloc[:, :-1] = sc.fit_transform(X_w_train_pca.iloc[:, :-1])\n",
    "X_w_test_pca.iloc[:, :-1] = sc.transform(X_w_test_pca.iloc[:, :-1])\n",
    "\n",
    "pca = PCA(0.95)\n",
    "X_w_train_pca = pca.fit_transform(X_w_train_pca)\n",
    "X_w_test_pca = pca.transform(X_w_test_pca)\n",
    "\n",
    "\n",
    "# On Wine PCA\n",
    "X_w_train_pca = dt.fit(X_w_train_pca, y_w_train_pca)\n",
    "y_w_pred_pca = dt.predict(X_w_test_pca)\n",
    "print(\"Decision tree Accuracy for Wine PCA with default params :%.2f\" % (accuracy_score(y_w_pred_pca, y_w_test_pca)*100) + \"%\")"
   ]
  },
  {
   "cell_type": "markdown",
   "id": "0b849507",
   "metadata": {},
   "source": [
    "## Wine LDA"
   ]
  },
  {
   "cell_type": "code",
   "execution_count": 38,
   "id": "2a444bae",
   "metadata": {},
   "outputs": [
    {
     "name": "stdout",
     "output_type": "stream",
     "text": [
      "Decision tree Accuracy for Wine LDA with default params :57.54%\n"
     ]
    }
   ],
   "source": [
    "X_w_train_lda, X_w_test_lda, y_w_train_lda, y_w_test_lda = train_test_split(X_wine, y_wine, random_state= 45)\n",
    "\n",
    "X_w_train_lda.iloc[:, :-1] = sc.fit_transform(X_w_train_lda.iloc[:, :-1])\n",
    "X_w_test_lda.iloc[:, :-1] = sc.transform(X_w_test_lda.iloc[:, :-1])\n",
    "\n",
    "\n",
    "lda = LDA(n_components=4)\n",
    "X_w_train_lda = lda.fit_transform(X_w_train_lda, y_w_train_lda)\n",
    "X_w_test_lda = lda.transform(X_w_test_lda)\n",
    "\n",
    "#On Wine LDA\n",
    "\n",
    "X_w_train_lda = dt.fit(X_w_train_lda, y_w_train_lda)\n",
    "y_w_pred_lda = dt.predict(X_w_test_lda)\n",
    "print(\"Decision tree Accuracy for Wine LDA with default params :%.2f\" % (accuracy_score(y_w_pred_lda, y_w_test_lda)*100) + \"%\")"
   ]
  },
  {
   "cell_type": "markdown",
   "id": "3c85646d",
   "metadata": {},
   "source": [
    "## Using GridSearchCV"
   ]
  },
  {
   "cell_type": "markdown",
   "id": "be730301",
   "metadata": {},
   "source": [
    "### Wine Raw"
   ]
  },
  {
   "cell_type": "code",
   "execution_count": 27,
   "id": "24548dc7",
   "metadata": {},
   "outputs": [
    {
     "name": "stdout",
     "output_type": "stream",
     "text": [
      "Best Parameters for Wine Raw Random forest are:{'max_depth': 13}\n"
     ]
    }
   ],
   "source": [
    "X_w_train_raw, X_w_test_raw, y_w_train_raw, y_w_test_raw = train_test_split(X_wine, y_wine, random_state= 100)\n",
    "\n",
    "\n",
    "X_w_train_raw.iloc[:, :-1] = sc.fit_transform(X_w_train_raw.iloc[:, :-1])\n",
    "X_w_test_raw.iloc[:, :-1] = sc.transform(X_w_test_raw.iloc[:, :-1])\n",
    "\n",
    "\n",
    "param_grid = {'max_depth' : [1,2,3,4,5,6,7,8,9,10,11,12,13,14]}\n",
    "\n",
    "grid = GridSearchCV(DT(), param_grid, refit= True, verbose=0)\n",
    "grid.fit(X_w_train_raw, y_w_train_raw)\n",
    "print(\"Best Parameters for Wine Raw Random forest are:\" +str(grid.best_params_))\n",
    "results = pd.DataFrame(grid.cv_results_)"
   ]
  },
  {
   "cell_type": "code",
   "execution_count": 39,
   "id": "6026eef2",
   "metadata": {},
   "outputs": [
    {
     "data": {
      "text/plain": [
       "Text(0, 0.5, 'Accuracy')"
      ]
     },
     "execution_count": 39,
     "metadata": {},
     "output_type": "execute_result"
    },
    {
     "data": {
      "image/png": "[encoded data removed]",
      "text/plain": [
       "<Figure size 640x480 with 1 Axes>"
      ]
     },
     "metadata": {},
     "output_type": "display_data"
    }
   ],
   "source": [
    "fig, ax = plt.subplots()\n",
    "r = range(1,15)\n",
    "ax.plot(r,results['mean_test_score'])\n",
    "plt.title(\"Maximum Depth vs Accuracy, Wine Raw\")\n",
    "plt.xlabel('Maximum Depth')\n",
    "plt.ylabel('Accuracy')\n"
   ]
  },
  {
   "cell_type": "code",
   "execution_count": 40,
   "id": "453daa4a",
   "metadata": {},
   "outputs": [
    {
     "data": {
      "text/html": [
       "<div>\n",
       "<style scoped>\n",
       "    .dataframe tbody tr th:only-of-type {\n",
       "        vertical-align: middle;\n",
       "    }\n",
       "\n",
       "    .dataframe tbody tr th {\n",
       "        vertical-align: top;\n",
       "    }\n",
       "\n",
       "    .dataframe thead th {\n",
       "        text-align: right;\n",
       "    }\n",
       "</style>\n",
       "<table border=\"1\" class=\"dataframe\">\n",
       "  <thead>\n",
       "    <tr style=\"text-align: right;\">\n",
       "      <th></th>\n",
       "      <th>mean_fit_time</th>\n",
       "      <th>std_fit_time</th>\n",
       "      <th>mean_score_time</th>\n",
       "      <th>std_score_time</th>\n",
       "      <th>param_max_depth</th>\n",
       "      <th>params</th>\n",
       "      <th>split0_test_score</th>\n",
       "      <th>split1_test_score</th>\n",
       "      <th>split2_test_score</th>\n",
       "      <th>split3_test_score</th>\n",
       "      <th>split4_test_score</th>\n",
       "      <th>mean_test_score</th>\n",
       "      <th>std_test_score</th>\n",
       "      <th>rank_test_score</th>\n",
       "    </tr>\n",
       "  </thead>\n",
       "  <tbody>\n",
       "    <tr>\n",
       "      <th>12</th>\n",
       "      <td>0.024053</td>\n",
       "      <td>0.000132</td>\n",
       "      <td>0.000738</td>\n",
       "      <td>0.000005</td>\n",
       "      <td>13</td>\n",
       "      <td>{'max_depth': 13}</td>\n",
       "      <td>0.564103</td>\n",
       "      <td>0.564103</td>\n",
       "      <td>0.537988</td>\n",
       "      <td>0.575975</td>\n",
       "      <td>0.545175</td>\n",
       "      <td>0.557469</td>\n",
       "      <td>0.013865</td>\n",
       "      <td>1</td>\n",
       "    </tr>\n",
       "  </tbody>\n",
       "</table>\n",
       "</div>"
      ],
      "text/plain": [
       "    mean_fit_time  std_fit_time  mean_score_time  std_score_time  \\\n",
       "12       0.024053      0.000132         0.000738        0.000005   \n",
       "\n",
       "   param_max_depth             params  split0_test_score  split1_test_score  \\\n",
       "12              13  {'max_depth': 13}           0.564103           0.564103   \n",
       "\n",
       "    split2_test_score  split3_test_score  split4_test_score  mean_test_score  \\\n",
       "12           0.537988           0.575975           0.545175         0.557469   \n",
       "\n",
       "    std_test_score  rank_test_score  \n",
       "12        0.013865                1  "
      ]
     },
     "execution_count": 40,
     "metadata": {},
     "output_type": "execute_result"
    }
   ],
   "source": [
    "results.loc[results['mean_test_score'] == max(results['mean_test_score'])]"
   ]
  },
  {
   "cell_type": "code",
   "execution_count": 41,
   "id": "360fd18a",
   "metadata": {},
   "outputs": [
    {
     "name": "stdout",
     "output_type": "stream",
     "text": [
      "Decision tree Accuracy for Wine Raw with best params :58.40%\n",
      "|--- alcohol <= 10.35\n",
      "|   |--- volatile acidity <= 0.24\n",
      "|   |   |--- alcohol <= 8.85\n",
      "|   |   |   |--- fixed acidity <= 7.25\n",
      "|   |   |   |   |--- truncated branch of depth 5\n",
      "|   |   |   |--- fixed acidity >  7.25\n",
      "|   |   |   |   |--- truncated branch of depth 5\n",
      "|   |   |--- alcohol >  8.85\n",
      "|   |   |   |--- residual sugar <= 1.35\n",
      "|   |   |   |   |--- truncated branch of depth 8\n",
      "|   |   |   |--- residual sugar >  1.35\n",
      "|   |   |   |   |--- truncated branch of depth 10\n",
      "|   |--- volatile acidity >  0.24\n",
      "|   |   |--- alcohol <= 9.85\n",
      "|   |   |   |--- fixed acidity <= 10.85\n",
      "|   |   |   |   |--- truncated branch of depth 10\n",
      "|   |   |   |--- fixed acidity >  10.85\n",
      "|   |   |   |   |--- truncated branch of depth 4\n",
      "|   |   |--- alcohol >  9.85\n",
      "|   |   |   |--- volatile acidity <= 0.56\n",
      "|   |   |   |   |--- truncated branch of depth 10\n",
      "|   |   |   |--- volatile acidity >  0.56\n",
      "|   |   |   |   |--- truncated branch of depth 9\n",
      "|--- alcohol >  10.35\n",
      "|   |--- alcohol <= 11.44\n",
      "|   |   |--- free sulfur dioxide <= 16.50\n",
      "|   |   |   |--- sulphates <= 0.58\n",
      "|   |   |   |   |--- truncated branch of depth 10\n",
      "|   |   |   |--- sulphates >  0.58\n",
      "|   |   |   |   |--- truncated branch of depth 10\n",
      "|   |   |--- free sulfur dioxide >  16.50\n",
      "|   |   |   |--- index <= 3997.00\n",
      "|   |   |   |   |--- truncated branch of depth 10\n",
      "|   |   |   |--- index >  3997.00\n",
      "|   |   |   |   |--- truncated branch of depth 10\n",
      "|   |--- alcohol >  11.44\n",
      "|   |   |--- index <= 3774.00\n",
      "|   |   |   |--- alcohol <= 12.55\n",
      "|   |   |   |   |--- truncated branch of depth 10\n",
      "|   |   |   |--- alcohol >  12.55\n",
      "|   |   |   |   |--- truncated branch of depth 10\n",
      "|   |   |--- index >  3774.00\n",
      "|   |   |   |--- alcohol <= 12.78\n",
      "|   |   |   |   |--- truncated branch of depth 9\n",
      "|   |   |   |--- alcohol >  12.78\n",
      "|   |   |   |   |--- truncated branch of depth 7\n",
      "\n"
     ]
    }
   ],
   "source": [
    "X_w_train_raw, X_w_test_raw, y_w_train_raw, y_w_test_raw = train_test_split(X_wine, y_wine, random_state= 45)\n",
    "\n",
    "\n",
    "# On Wine Raw\n",
    "dt = DT(max_depth=13,random_state = 0)\n",
    "X_w_train_raw = dt.fit(X_w_train_raw , y_w_train_raw)\n",
    "y_w_pred_raw = dt.predict(X_w_test_raw)\n",
    "accuracy_score(y_w_pred_raw, y_w_test_raw)\n",
    "\n",
    "print(\"Decision tree Accuracy for Wine Raw with best params :%.2f\" % (accuracy_score(y_w_pred_raw, y_w_test_raw)*100) + \"%\")\n",
    "\n",
    "#fig = plt.figure()\n",
    "#plt_tree(dt, max_depth= 1, filled=True)\n",
    "\n",
    "print(expt(dt, max_depth=3, feature_names= list(X_wine.columns)))"
   ]
  },
  {
   "cell_type": "markdown",
   "id": "0f59c1e4",
   "metadata": {},
   "source": [
    "### Wine PCA"
   ]
  },
  {
   "cell_type": "code",
   "execution_count": 46,
   "id": "0f1c3198",
   "metadata": {},
   "outputs": [
    {
     "name": "stdout",
     "output_type": "stream",
     "text": [
      "Best Parameters for Wine PCA Random forest are:{'max_depth': 14}\n"
     ]
    }
   ],
   "source": [
    "X_w_train_pca, X_w_test_pca, y_w_train_pca, y_w_test_pca = train_test_split(X_wine, y_wine, random_state= 45)\n",
    "\n",
    "\n",
    "X_w_train_pca.iloc[:, :-1] = sc.fit_transform(X_w_train_pca.iloc[:, :-1])\n",
    "X_w_test_pca.iloc[:, :-1] = sc.transform(X_w_test_pca.iloc[:, :-1])\n",
    "\n",
    "pca = PCA(0.95)\n",
    "X_w_train_pca = pca.fit_transform(X_w_train_pca)\n",
    "X_w_test_pca = pca.transform(X_w_test_pca)\n",
    "\n",
    "param_grid = { 'max_depth' : [1,2,3,4,5,6,7,8,9,10,11,12,13,14,16,17,18,19,20,21]}\n",
    "\n",
    "grid = GridSearchCV(DT(), param_grid, refit= True, verbose=0)\n",
    "grid.fit(X_w_train_pca, y_w_train_pca)\n",
    "\n",
    "print(\"Best Parameters for Wine PCA Random forest are:\" +str(grid.best_params_))"
   ]
  },
  {
   "cell_type": "code",
   "execution_count": 47,
   "id": "ac80fbcd",
   "metadata": {},
   "outputs": [
    {
     "data": {
      "text/plain": [
       "Text(0, 0.5, 'Accuracy')"
      ]
     },
     "execution_count": 47,
     "metadata": {},
     "output_type": "execute_result"
    },
    {
     "data": {
      "image/png": "[encoded data removed]",
      "text/plain": [
       "<Figure size 640x480 with 1 Axes>"
      ]
     },
     "metadata": {},
     "output_type": "display_data"
    }
   ],
   "source": [
    "results = pd.DataFrame(grid.cv_results_)\n",
    "fig, ax = plt.subplots()\n",
    "r = range(1,21)\n",
    "ax.plot(r,results['mean_test_score'])\n",
    "plt.title(\"Maximum Depth vs Accuracy, Wine PCA\")\n",
    "plt.xlabel('Maximum Depth')\n",
    "plt.ylabel('Accuracy')\n"
   ]
  },
  {
   "cell_type": "code",
   "execution_count": 48,
   "id": "41e2db18",
   "metadata": {},
   "outputs": [
    {
     "data": {
      "text/html": [
       "<div>\n",
       "<style scoped>\n",
       "    .dataframe tbody tr th:only-of-type {\n",
       "        vertical-align: middle;\n",
       "    }\n",
       "\n",
       "    .dataframe tbody tr th {\n",
       "        vertical-align: top;\n",
       "    }\n",
       "\n",
       "    .dataframe thead th {\n",
       "        text-align: right;\n",
       "    }\n",
       "</style>\n",
       "<table border=\"1\" class=\"dataframe\">\n",
       "  <thead>\n",
       "    <tr style=\"text-align: right;\">\n",
       "      <th></th>\n",
       "      <th>mean_fit_time</th>\n",
       "      <th>std_fit_time</th>\n",
       "      <th>mean_score_time</th>\n",
       "      <th>std_score_time</th>\n",
       "      <th>param_max_depth</th>\n",
       "      <th>params</th>\n",
       "      <th>split0_test_score</th>\n",
       "      <th>split1_test_score</th>\n",
       "      <th>split2_test_score</th>\n",
       "      <th>split3_test_score</th>\n",
       "      <th>split4_test_score</th>\n",
       "      <th>mean_test_score</th>\n",
       "      <th>std_test_score</th>\n",
       "      <th>rank_test_score</th>\n",
       "    </tr>\n",
       "  </thead>\n",
       "  <tbody>\n",
       "    <tr>\n",
       "      <th>13</th>\n",
       "      <td>0.034006</td>\n",
       "      <td>0.000388</td>\n",
       "      <td>0.000283</td>\n",
       "      <td>0.000001</td>\n",
       "      <td>14</td>\n",
       "      <td>{'max_depth': 14}</td>\n",
       "      <td>0.6</td>\n",
       "      <td>0.568205</td>\n",
       "      <td>0.549281</td>\n",
       "      <td>0.554415</td>\n",
       "      <td>0.574949</td>\n",
       "      <td>0.56937</td>\n",
       "      <td>0.017877</td>\n",
       "      <td>1</td>\n",
       "    </tr>\n",
       "  </tbody>\n",
       "</table>\n",
       "</div>"
      ],
      "text/plain": [
       "    mean_fit_time  std_fit_time  mean_score_time  std_score_time  \\\n",
       "13       0.034006      0.000388         0.000283        0.000001   \n",
       "\n",
       "   param_max_depth             params  split0_test_score  split1_test_score  \\\n",
       "13              14  {'max_depth': 14}                0.6           0.568205   \n",
       "\n",
       "    split2_test_score  split3_test_score  split4_test_score  mean_test_score  \\\n",
       "13           0.549281           0.554415           0.574949          0.56937   \n",
       "\n",
       "    std_test_score  rank_test_score  \n",
       "13        0.017877                1  "
      ]
     },
     "execution_count": 48,
     "metadata": {},
     "output_type": "execute_result"
    }
   ],
   "source": [
    "results.loc[results['mean_test_score'] == max(results['mean_test_score'])]"
   ]
  },
  {
   "cell_type": "code",
   "execution_count": 79,
   "id": "4c9ac803",
   "metadata": {},
   "outputs": [
    {
     "name": "stdout",
     "output_type": "stream",
     "text": [
      "Decision tree Accuracy for Wine PCA with best params :58.65%\n"
     ]
    }
   ],
   "source": [
    "X_w_train_pca, X_w_test_pca, y_w_train_pca, y_w_test_pca = train_test_split(X_wine, y_wine, random_state= 45)\n",
    "\n",
    "\n",
    "X_w_train_pca.iloc[:, :-1] = sc.fit_transform(X_w_train_pca.iloc[:, :-1])\n",
    "X_w_test_pca.iloc[:, :-1] = sc.transform(X_w_test_pca.iloc[:, :-1])\n",
    "\n",
    "pca = PCA(0.95)\n",
    "X_w_train_pca = pca.fit_transform(X_w_train_pca)\n",
    "X_w_test_pca = pca.transform(X_w_test_pca)\n",
    "\n",
    "dt = DT(max_depth=14)\n",
    "X_w_train_pca = dt.fit(X_w_train_pca , y_w_train_pca)\n",
    "y_w_pred_pca = dt.predict(X_w_test_pca)\n",
    "\n",
    "print(\"Decision tree Accuracy for Wine PCA with best params :%.2f\" % (accuracy_score(y_w_pred_pca, y_w_test_pca)*100) + \"%\")"
   ]
  },
  {
   "cell_type": "markdown",
   "id": "3b130de4",
   "metadata": {},
   "source": [
    "### Wine LDA"
   ]
  },
  {
   "cell_type": "code",
   "execution_count": 83,
   "id": "61790ce0",
   "metadata": {},
   "outputs": [
    {
     "name": "stdout",
     "output_type": "stream",
     "text": [
      "Best Parameters for Wine LDA Random forest are:{'max_depth': 17}\n"
     ]
    }
   ],
   "source": [
    "X_w_train_lda, X_w_test_lda, y_w_train_lda, y_w_test_lda = train_test_split(X_wine, y_wine, random_state= 45)\n",
    "\n",
    "\n",
    "X_w_train_lda.iloc[:, :-1] = sc.fit_transform(X_w_train_lda.iloc[:, :-1])\n",
    "X_w_test_lda.iloc[:, :-1] = sc.transform(X_w_test_lda.iloc[:, :-1])\n",
    "\n",
    "lda = LDA(n_components=4)\n",
    "X_w_train_lda = lda.fit_transform(X_w_train_lda, y_w_train_lda)\n",
    "X_w_test_lda = lda.transform(X_w_test_lda)\n",
    "\n",
    "\n",
    "param_grid = {'max_depth' : [1,2,3,4,5,6,7,8,9,10,11,12,13,14,16,17,18,19,20,21]}\n",
    "\n",
    "grid = GridSearchCV(DT(), param_grid, refit= True, verbose=0)\n",
    "grid.fit(X_w_train_lda, y_w_train_lda)\n",
    "\n",
    "print(\"Best Parameters for Wine LDA Random forest are:\" +str(grid.best_params_))"
   ]
  },
  {
   "cell_type": "code",
   "execution_count": 84,
   "id": "8f185c7f",
   "metadata": {},
   "outputs": [
    {
     "data": {
      "text/plain": [
       "Text(0, 0.5, 'Accuracy')"
      ]
     },
     "execution_count": 84,
     "metadata": {},
     "output_type": "execute_result"
    },
    {
     "data": {
      "image/png": "[encoded data removed]",
      "text/plain": [
       "<Figure size 640x480 with 1 Axes>"
      ]
     },
     "metadata": {},
     "output_type": "display_data"
    }
   ],
   "source": [
    "results = pd.DataFrame(grid.cv_results_)\n",
    "fig, ax = plt.subplots()\n",
    "r = range(1,21)\n",
    "ax.plot(r,results['mean_test_score'])\n",
    "plt.title(\"Maximum Depth vs Accuracy, Wine LDA\")\n",
    "plt.xlabel('Maximum Depth')\n",
    "plt.ylabel('Accuracy')\n"
   ]
  },
  {
   "cell_type": "code",
   "execution_count": 85,
   "id": "413e85e4",
   "metadata": {},
   "outputs": [
    {
     "data": {
      "text/html": [
       "<div>\n",
       "<style scoped>\n",
       "    .dataframe tbody tr th:only-of-type {\n",
       "        vertical-align: middle;\n",
       "    }\n",
       "\n",
       "    .dataframe tbody tr th {\n",
       "        vertical-align: top;\n",
       "    }\n",
       "\n",
       "    .dataframe thead th {\n",
       "        text-align: right;\n",
       "    }\n",
       "</style>\n",
       "<table border=\"1\" class=\"dataframe\">\n",
       "  <thead>\n",
       "    <tr style=\"text-align: right;\">\n",
       "      <th></th>\n",
       "      <th>mean_fit_time</th>\n",
       "      <th>std_fit_time</th>\n",
       "      <th>mean_score_time</th>\n",
       "      <th>std_score_time</th>\n",
       "      <th>param_max_depth</th>\n",
       "      <th>params</th>\n",
       "      <th>split0_test_score</th>\n",
       "      <th>split1_test_score</th>\n",
       "      <th>split2_test_score</th>\n",
       "      <th>split3_test_score</th>\n",
       "      <th>split4_test_score</th>\n",
       "      <th>mean_test_score</th>\n",
       "      <th>std_test_score</th>\n",
       "      <th>rank_test_score</th>\n",
       "    </tr>\n",
       "  </thead>\n",
       "  <tbody>\n",
       "    <tr>\n",
       "      <th>15</th>\n",
       "      <td>0.016101</td>\n",
       "      <td>0.000173</td>\n",
       "      <td>0.000284</td>\n",
       "      <td>0.000002</td>\n",
       "      <td>17</td>\n",
       "      <td>{'max_depth': 17}</td>\n",
       "      <td>0.561026</td>\n",
       "      <td>0.589744</td>\n",
       "      <td>0.572895</td>\n",
       "      <td>0.543121</td>\n",
       "      <td>0.557495</td>\n",
       "      <td>0.564856</td>\n",
       "      <td>0.015654</td>\n",
       "      <td>1</td>\n",
       "    </tr>\n",
       "  </tbody>\n",
       "</table>\n",
       "</div>"
      ],
      "text/plain": [
       "    mean_fit_time  std_fit_time  mean_score_time  std_score_time  \\\n",
       "15       0.016101      0.000173         0.000284        0.000002   \n",
       "\n",
       "   param_max_depth             params  split0_test_score  split1_test_score  \\\n",
       "15              17  {'max_depth': 17}           0.561026           0.589744   \n",
       "\n",
       "    split2_test_score  split3_test_score  split4_test_score  mean_test_score  \\\n",
       "15           0.572895           0.543121           0.557495         0.564856   \n",
       "\n",
       "    std_test_score  rank_test_score  \n",
       "15        0.015654                1  "
      ]
     },
     "execution_count": 85,
     "metadata": {},
     "output_type": "execute_result"
    }
   ],
   "source": [
    "results.loc[results['mean_test_score'] == max(results['mean_test_score'])]"
   ]
  },
  {
   "cell_type": "code",
   "execution_count": 87,
   "id": "24976f92",
   "metadata": {},
   "outputs": [
    {
     "name": "stdout",
     "output_type": "stream",
     "text": [
      "Decision tree Accuracy for Wine LDA with best params :59.38%\n"
     ]
    }
   ],
   "source": [
    "X_w_train_lda, X_w_test_lda, y_w_train_lda, y_w_test_lda = train_test_split(X_wine, y_wine, random_state= 45)\n",
    "\n",
    "\n",
    "X_w_train_lda.iloc[:, :-1] = sc.fit_transform(X_w_train_lda.iloc[:, :-1])\n",
    "X_w_test_lda.iloc[:, :-1] = sc.transform(X_w_test_lda.iloc[:, :-1])\n",
    "\n",
    "pca = PCA(0.95)\n",
    "X_w_train_lda = pca.fit_transform(X_w_train_lda)\n",
    "X_w_test_lda = pca.transform(X_w_test_lda)\n",
    "\n",
    "dt = DT(max_depth=17)\n",
    "X_w_train_lda = dt.fit(X_w_train_lda , y_w_train_lda)\n",
    "y_w_pred_lda = dt.predict(X_w_test_lda)\n",
    "\n",
    "print(\"Decision tree Accuracy for Wine LDA with best params :%.2f\" % (accuracy_score(y_w_pred_lda, y_w_test_lda)*100) + \"%\")"
   ]
  }
 ],
 "metadata": {
  "hide_input": false,
  "kernelspec": {
   "display_name": "Python 3 (ipykernel)",
   "language": "python",
   "name": "python3"
  },
  "language_info": {
   "codemirror_mode": {
    "name": "ipython",
    "version": 3
   },
   "file_extension": ".py",
   "mimetype": "text/x-python",
   "name": "python",
   "nbconvert_exporter": "python",
   "pygments_lexer": "ipython3",
   "version": "3.9.13"
  },
  "varInspector": {
   "cols": {
    "lenName": 16,
    "lenType": 16,
    "lenVar": 40
   },
   "kernels_config": {
    "python": {
     "delete_cmd_postfix": "",
     "delete_cmd_prefix": "del ",
     "library": "var_list.py",
     "varRefreshCmd": "print(var_dic_list())"
    },
    "r": {
     "delete_cmd_postfix": ") ",
     "delete_cmd_prefix": "rm(",
     "library": "var_list.r",
     "varRefreshCmd": "cat(var_dic_list()) "
    }
   },
   "types_to_exclude": [
    "module",
    "function",
    "builtin_function_or_method",
    "instance",
    "_Feature"
   ],
   "window_display": false
  }
 },
 "nbformat": 4,
 "nbformat_minor": 5
}
